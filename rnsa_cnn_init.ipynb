{
 "cells": [
  {
   "cell_type": "code",
   "execution_count": 31,
   "id": "f762db01",
   "metadata": {
    "scrolled": true
   },
   "outputs": [
    {
     "name": "stdout",
     "output_type": "stream",
     "text": [
      "Requirement already satisfied: pydicom in /Users/xueweichen/Downloads/anaconda3/lib/python3.9/site-packages (2.3.1)\n",
      "Requirement already satisfied: pillow in /Users/xueweichen/Downloads/anaconda3/lib/python3.9/site-packages (8.4.0)\n",
      "Requirement already satisfied: pylibjpeg-libjpeg in /Users/xueweichen/Downloads/anaconda3/lib/python3.9/site-packages (1.3.2)\n",
      "Requirement already satisfied: pylibjpeg in /Users/xueweichen/Downloads/anaconda3/lib/python3.9/site-packages (1.4.0)\n",
      "Requirement already satisfied: python-gdcm in /Users/xueweichen/Downloads/anaconda3/lib/python3.9/site-packages (3.0.20)\n",
      "Requirement already satisfied: seaborn in /Users/xueweichen/Downloads/anaconda3/lib/python3.9/site-packages (0.11.2)\n",
      "Requirement already satisfied: matplotlib in /Users/xueweichen/Downloads/anaconda3/lib/python3.9/site-packages (3.4.3)\n",
      "Requirement already satisfied: SciPy in /Users/xueweichen/Downloads/anaconda3/lib/python3.9/site-packages (1.7.1)\n",
      "Requirement already satisfied: scikit-image in /Users/xueweichen/Downloads/anaconda3/lib/python3.9/site-packages (0.18.3)\n",
      "Requirement already satisfied: python-magic in /Users/xueweichen/Downloads/anaconda3/lib/python3.9/site-packages (0.4.27)\n",
      "Requirement already satisfied: tensorflow-io in /Users/xueweichen/Downloads/anaconda3/lib/python3.9/site-packages (0.29.0)\n",
      "Requirement already satisfied: plotly in /Users/xueweichen/Downloads/anaconda3/lib/python3.9/site-packages (5.11.0)\n",
      "Requirement already satisfied: pip in /Users/xueweichen/Downloads/anaconda3/lib/python3.9/site-packages (21.2.4)\n",
      "Requirement already satisfied: install in /Users/xueweichen/Downloads/anaconda3/lib/python3.9/site-packages (1.3.5)\n",
      "Requirement already satisfied: opencv-python in /Users/xueweichen/Downloads/anaconda3/lib/python3.9/site-packages (4.6.0.66)\n",
      "Requirement already satisfied: tensorflow in /Users/xueweichen/Downloads/anaconda3/lib/python3.9/site-packages (2.11.0)\n",
      "Requirement already satisfied: numpy>=1.22 in /Users/xueweichen/Downloads/anaconda3/lib/python3.9/site-packages (from pylibjpeg-libjpeg) (1.22.4)\n",
      "Requirement already satisfied: pandas>=0.23 in /Users/xueweichen/Downloads/anaconda3/lib/python3.9/site-packages (from seaborn) (1.3.4)\n",
      "Requirement already satisfied: kiwisolver>=1.0.1 in /Users/xueweichen/Downloads/anaconda3/lib/python3.9/site-packages (from matplotlib) (1.3.1)\n",
      "Requirement already satisfied: pyparsing>=2.2.1 in /Users/xueweichen/Downloads/anaconda3/lib/python3.9/site-packages (from matplotlib) (3.0.4)\n",
      "Requirement already satisfied: python-dateutil>=2.7 in /Users/xueweichen/Downloads/anaconda3/lib/python3.9/site-packages (from matplotlib) (2.8.2)\n",
      "Requirement already satisfied: cycler>=0.10 in /Users/xueweichen/Downloads/anaconda3/lib/python3.9/site-packages (from matplotlib) (0.10.0)\n",
      "Requirement already satisfied: networkx>=2.0 in /Users/xueweichen/Downloads/anaconda3/lib/python3.9/site-packages (from scikit-image) (2.6.3)\n",
      "Requirement already satisfied: imageio>=2.3.0 in /Users/xueweichen/Downloads/anaconda3/lib/python3.9/site-packages (from scikit-image) (2.9.0)\n",
      "Requirement already satisfied: tifffile>=2019.7.26 in /Users/xueweichen/Downloads/anaconda3/lib/python3.9/site-packages (from scikit-image) (2021.7.2)\n",
      "Requirement already satisfied: PyWavelets>=1.1.1 in /Users/xueweichen/Downloads/anaconda3/lib/python3.9/site-packages (from scikit-image) (1.1.1)\n",
      "Requirement already satisfied: tensorflow-io-gcs-filesystem==0.29.0 in /Users/xueweichen/Downloads/anaconda3/lib/python3.9/site-packages (from tensorflow-io) (0.29.0)\n",
      "Requirement already satisfied: tenacity>=6.2.0 in /Users/xueweichen/Downloads/anaconda3/lib/python3.9/site-packages (from plotly) (8.1.0)\n",
      "Requirement already satisfied: termcolor>=1.1.0 in /Users/xueweichen/Downloads/anaconda3/lib/python3.9/site-packages (from tensorflow) (2.1.1)\n",
      "Requirement already satisfied: packaging in /Users/xueweichen/Downloads/anaconda3/lib/python3.9/site-packages (from tensorflow) (21.0)\n",
      "Requirement already satisfied: typing-extensions>=3.6.6 in /Users/xueweichen/Downloads/anaconda3/lib/python3.9/site-packages (from tensorflow) (3.10.0.2)\n",
      "Requirement already satisfied: opt-einsum>=2.3.2 in /Users/xueweichen/Downloads/anaconda3/lib/python3.9/site-packages (from tensorflow) (3.3.0)\n",
      "Requirement already satisfied: setuptools in /Users/xueweichen/Downloads/anaconda3/lib/python3.9/site-packages (from tensorflow) (58.0.4)\n",
      "Requirement already satisfied: grpcio<2.0,>=1.24.3 in /Users/xueweichen/Downloads/anaconda3/lib/python3.9/site-packages (from tensorflow) (1.51.1)\n",
      "Requirement already satisfied: wrapt>=1.11.0 in /Users/xueweichen/Downloads/anaconda3/lib/python3.9/site-packages (from tensorflow) (1.12.1)\n",
      "Requirement already satisfied: tensorflow-estimator<2.12,>=2.11.0 in /Users/xueweichen/Downloads/anaconda3/lib/python3.9/site-packages (from tensorflow) (2.11.0)\n",
      "Requirement already satisfied: astunparse>=1.6.0 in /Users/xueweichen/Downloads/anaconda3/lib/python3.9/site-packages (from tensorflow) (1.6.3)\n",
      "Requirement already satisfied: h5py>=2.9.0 in /Users/xueweichen/Downloads/anaconda3/lib/python3.9/site-packages (from tensorflow) (3.2.1)\n",
      "Requirement already satisfied: tensorboard<2.12,>=2.11 in /Users/xueweichen/Downloads/anaconda3/lib/python3.9/site-packages (from tensorflow) (2.11.0)\n",
      "Requirement already satisfied: libclang>=13.0.0 in /Users/xueweichen/Downloads/anaconda3/lib/python3.9/site-packages (from tensorflow) (14.0.6)\n",
      "Requirement already satisfied: gast<=0.4.0,>=0.2.1 in /Users/xueweichen/Downloads/anaconda3/lib/python3.9/site-packages (from tensorflow) (0.4.0)\n",
      "Requirement already satisfied: flatbuffers>=2.0 in /Users/xueweichen/Downloads/anaconda3/lib/python3.9/site-packages (from tensorflow) (22.12.6)\n",
      "Requirement already satisfied: six>=1.12.0 in /Users/xueweichen/Downloads/anaconda3/lib/python3.9/site-packages (from tensorflow) (1.16.0)\n",
      "Requirement already satisfied: protobuf<3.20,>=3.9.2 in /Users/xueweichen/Downloads/anaconda3/lib/python3.9/site-packages (from tensorflow) (3.19.6)\n",
      "Requirement already satisfied: google-pasta>=0.1.1 in /Users/xueweichen/Downloads/anaconda3/lib/python3.9/site-packages (from tensorflow) (0.2.0)\n",
      "Requirement already satisfied: keras<2.12,>=2.11.0 in /Users/xueweichen/Downloads/anaconda3/lib/python3.9/site-packages (from tensorflow) (2.11.0)\n",
      "Requirement already satisfied: absl-py>=1.0.0 in /Users/xueweichen/Downloads/anaconda3/lib/python3.9/site-packages (from tensorflow) (1.3.0)\n",
      "Requirement already satisfied: wheel<1.0,>=0.23.0 in /Users/xueweichen/Downloads/anaconda3/lib/python3.9/site-packages (from astunparse>=1.6.0->tensorflow) (0.37.0)\n",
      "Requirement already satisfied: pytz>=2017.3 in /Users/xueweichen/Downloads/anaconda3/lib/python3.9/site-packages (from pandas>=0.23->seaborn) (2021.3)\n",
      "Requirement already satisfied: google-auth<3,>=1.6.3 in /Users/xueweichen/Downloads/anaconda3/lib/python3.9/site-packages (from tensorboard<2.12,>=2.11->tensorflow) (2.15.0)\n",
      "Requirement already satisfied: tensorboard-plugin-wit>=1.6.0 in /Users/xueweichen/Downloads/anaconda3/lib/python3.9/site-packages (from tensorboard<2.12,>=2.11->tensorflow) (1.8.1)\n",
      "Requirement already satisfied: werkzeug>=1.0.1 in /Users/xueweichen/Downloads/anaconda3/lib/python3.9/site-packages (from tensorboard<2.12,>=2.11->tensorflow) (2.0.2)\n",
      "Requirement already satisfied: google-auth-oauthlib<0.5,>=0.4.1 in /Users/xueweichen/Downloads/anaconda3/lib/python3.9/site-packages (from tensorboard<2.12,>=2.11->tensorflow) (0.4.6)\n",
      "Requirement already satisfied: requests<3,>=2.21.0 in /Users/xueweichen/Downloads/anaconda3/lib/python3.9/site-packages (from tensorboard<2.12,>=2.11->tensorflow) (2.26.0)\n",
      "Requirement already satisfied: tensorboard-data-server<0.7.0,>=0.6.0 in /Users/xueweichen/Downloads/anaconda3/lib/python3.9/site-packages (from tensorboard<2.12,>=2.11->tensorflow) (0.6.1)\n",
      "Requirement already satisfied: markdown>=2.6.8 in /Users/xueweichen/Downloads/anaconda3/lib/python3.9/site-packages (from tensorboard<2.12,>=2.11->tensorflow) (3.4.1)\n",
      "Requirement already satisfied: rsa<5,>=3.1.4 in /Users/xueweichen/Downloads/anaconda3/lib/python3.9/site-packages (from google-auth<3,>=1.6.3->tensorboard<2.12,>=2.11->tensorflow) (4.9)\n",
      "Requirement already satisfied: pyasn1-modules>=0.2.1 in /Users/xueweichen/Downloads/anaconda3/lib/python3.9/site-packages (from google-auth<3,>=1.6.3->tensorboard<2.12,>=2.11->tensorflow) (0.2.8)\n",
      "Requirement already satisfied: cachetools<6.0,>=2.0.0 in /Users/xueweichen/Downloads/anaconda3/lib/python3.9/site-packages (from google-auth<3,>=1.6.3->tensorboard<2.12,>=2.11->tensorflow) (5.2.0)\n",
      "Requirement already satisfied: requests-oauthlib>=0.7.0 in /Users/xueweichen/Downloads/anaconda3/lib/python3.9/site-packages (from google-auth-oauthlib<0.5,>=0.4.1->tensorboard<2.12,>=2.11->tensorflow) (1.3.1)\n",
      "Requirement already satisfied: importlib-metadata>=4.4 in /Users/xueweichen/Downloads/anaconda3/lib/python3.9/site-packages (from markdown>=2.6.8->tensorboard<2.12,>=2.11->tensorflow) (4.8.1)\n"
     ]
    },
    {
     "name": "stdout",
     "output_type": "stream",
     "text": [
      "Requirement already satisfied: zipp>=0.5 in /Users/xueweichen/Downloads/anaconda3/lib/python3.9/site-packages (from importlib-metadata>=4.4->markdown>=2.6.8->tensorboard<2.12,>=2.11->tensorflow) (3.6.0)\n",
      "Requirement already satisfied: pyasn1<0.5.0,>=0.4.6 in /Users/xueweichen/Downloads/anaconda3/lib/python3.9/site-packages (from pyasn1-modules>=0.2.1->google-auth<3,>=1.6.3->tensorboard<2.12,>=2.11->tensorflow) (0.4.8)\n",
      "Requirement already satisfied: charset-normalizer~=2.0.0 in /Users/xueweichen/Downloads/anaconda3/lib/python3.9/site-packages (from requests<3,>=2.21.0->tensorboard<2.12,>=2.11->tensorflow) (2.0.4)\n",
      "Requirement already satisfied: idna<4,>=2.5 in /Users/xueweichen/Downloads/anaconda3/lib/python3.9/site-packages (from requests<3,>=2.21.0->tensorboard<2.12,>=2.11->tensorflow) (3.2)\n",
      "Requirement already satisfied: certifi>=2017.4.17 in /Users/xueweichen/Downloads/anaconda3/lib/python3.9/site-packages (from requests<3,>=2.21.0->tensorboard<2.12,>=2.11->tensorflow) (2021.10.8)\n",
      "Requirement already satisfied: urllib3<1.27,>=1.21.1 in /Users/xueweichen/Downloads/anaconda3/lib/python3.9/site-packages (from requests<3,>=2.21.0->tensorboard<2.12,>=2.11->tensorflow) (1.26.7)\n",
      "Requirement already satisfied: oauthlib>=3.0.0 in /Users/xueweichen/Downloads/anaconda3/lib/python3.9/site-packages (from requests-oauthlib>=0.7.0->google-auth-oauthlib<0.5,>=0.4.1->tensorboard<2.12,>=2.11->tensorflow) (3.2.2)\n"
     ]
    }
   ],
   "source": [
    "!pip install pydicom pillow pylibjpeg-libjpeg pylibjpeg python-gdcm seaborn matplotlib SciPy scikit-image python-magic tensorflow-io plotly pip install opencv-python tensorflow \n",
    "\n",
    " "
   ]
  },
  {
   "cell_type": "code",
   "execution_count": 32,
   "id": "066a046b",
   "metadata": {},
   "outputs": [
    {
     "data": {
      "text/html": [
       "        <script type=\"text/javascript\">\n",
       "        window.PlotlyConfig = {MathJaxConfig: 'local'};\n",
       "        if (window.MathJax && window.MathJax.Hub && window.MathJax.Hub.Config) {window.MathJax.Hub.Config({SVG: {font: \"STIX-Web\"}});}\n",
       "        if (typeof require !== 'undefined') {\n",
       "        require.undef(\"plotly\");\n",
       "        requirejs.config({\n",
       "            paths: {\n",
       "                'plotly': ['https://cdn.plot.ly/plotly-2.16.1.min']\n",
       "            }\n",
       "        });\n",
       "        require(['plotly'], function(Plotly) {\n",
       "            window._Plotly = Plotly;\n",
       "        });\n",
       "        }\n",
       "        </script>\n",
       "        "
      ]
     },
     "metadata": {},
     "output_type": "display_data"
    }
   ],
   "source": [
    "#%reload_ext signature\n",
    "%matplotlib inline\n",
    "\n",
    "import numpy as np\n",
    "import pydicom\n",
    "import os\n",
    "import matplotlib.pyplot as plt\n",
    "from glob import glob\n",
    "from mpl_toolkits.mplot3d.art3d import Poly3DCollection\n",
    "import scipy.ndimage\n",
    "from skimage import morphology\n",
    "from skimage import measure\n",
    "from skimage.transform import resize\n",
    "from sklearn.cluster import KMeans\n",
    "from plotly import __version__\n",
    "from plotly.offline import download_plotlyjs, init_notebook_mode, plot, iplot\n",
    "from plotly.tools import FigureFactory as FF\n",
    "from plotly.graph_objs import *\n",
    "init_notebook_mode(connected=True) \n",
    "import pandas as pd\n",
    "import cv2\n",
    "import tensorflow as tf"
   ]
  },
  {
   "cell_type": "code",
   "execution_count": 33,
   "id": "0635e084",
   "metadata": {},
   "outputs": [
    {
     "name": "stdout",
     "output_type": "stream",
     "text": [
      "image file %s train_images/10006/1864590858.dcm\n",
      "Dataset.file_meta -------------------------------\n",
      "(0002, 0001) File Meta Information Version       OB: b'\\x00\\x01'\n",
      "(0002, 0002) Media Storage SOP Class UID         UI: Digital X-Ray Image Storage - For Presentation\n",
      "(0002, 0003) Media Storage SOP Instance UID      UI: 1.2.840.10009.1.2.3.10006.1.1864590858\n",
      "(0002, 0010) Transfer Syntax UID                 UI: JPEG 2000 Image Compression (Lossless Only)\n",
      "(0002, 0012) Implementation Class UID            UI: 1.2.840.113654.2.3.1995.2.12.0\n",
      "(0002, 0013) Implementation Version Name         SH: 'PYDICOM 2.3.0'\n",
      "-------------------------------------------------\n",
      "(0008, 0018) SOP Instance UID                    UI: 1.2.840.10009.1.2.3.10006.1.1864590858\n",
      "(0008, 0023) Content Date                        DA: '20221118'\n",
      "(0008, 0033) Content Time                        TM: '183901.986648'\n",
      "(0010, 0020) Patient ID                          LO: '10006'\n",
      "(0020, 000d) Study Instance UID                  UI: 1.2.840.10009.1.2.3.10006\n",
      "(0020, 000e) Series Instance UID                 UI: 1.2.840.10009.1.2.3.10006.1\n",
      "(0020, 0013) Instance Number                     IS: '1864590858'\n",
      "(0020, 0062) Image Laterality                    CS: 'R'\n",
      "(0028, 0002) Samples per Pixel                   US: 1\n",
      "(0028, 0004) Photometric Interpretation          CS: 'MONOCHROME1'\n",
      "(0028, 0010) Rows                                US: 5355\n",
      "(0028, 0011) Columns                             US: 4915\n",
      "(0028, 0100) Bits Allocated                      US: 16\n",
      "(0028, 0101) Bits Stored                         US: 16\n",
      "(0028, 0102) High Bit                            US: 15\n",
      "(0028, 0103) Pixel Representation                US: 0\n",
      "(0028, 0120) Pixel Padding Value                 US: 3076\n",
      "(0028, 1040) Pixel Intensity Relationship        CS: 'LOG'\n",
      "(0028, 1041) Pixel Intensity Relationship Sign   SS: 1\n",
      "(0028, 1050) Window Center                       DS: [1802.310000, 1802.310000, 2020.704000, 1583.916000]\n",
      "(0028, 1051) Window Width                        DS: [1091.970000, 1091.970000, 1091.970000, 1091.970000]\n",
      "(0028, 1052) Rescale Intercept                   DS: '0.0'\n",
      "(0028, 1053) Rescale Slope                       DS: '1.0'\n",
      "(0028, 1054) Rescale Type                        LO: 'US'\n",
      "(0028, 1056) VOI LUT Function                    CS: 'SIGMOID'\n",
      "(0028, 1350) Partial View                        CS: 'NO'\n",
      "(0028, 2110) Lossy Image Compression             CS: '00'\n",
      "(7fe0, 0010) Pixel Data                          OW: Array of 4022058 elements\n",
      "image file %s train_images/10006/462822612.dcm\n",
      "Dataset.file_meta -------------------------------\n",
      "(0002, 0001) File Meta Information Version       OB: b'\\x00\\x01'\n",
      "(0002, 0002) Media Storage SOP Class UID         UI: Digital X-Ray Image Storage - For Presentation\n",
      "(0002, 0003) Media Storage SOP Instance UID      UI: 1.2.840.10009.1.2.3.10006.1.462822612\n",
      "(0002, 0010) Transfer Syntax UID                 UI: JPEG 2000 Image Compression (Lossless Only)\n",
      "(0002, 0012) Implementation Class UID            UI: 1.2.840.113654.2.3.1995.2.12.0\n",
      "(0002, 0013) Implementation Version Name         SH: 'PYDICOM 2.3.0'\n",
      "-------------------------------------------------\n",
      "(0008, 0018) SOP Instance UID                    UI: 1.2.840.10009.1.2.3.10006.1.462822612\n",
      "(0008, 0023) Content Date                        DA: '20221118'\n",
      "(0008, 0033) Content Time                        TM: '183901.561976'\n",
      "(0010, 0020) Patient ID                          LO: '10006'\n",
      "(0020, 000d) Study Instance UID                  UI: 1.2.840.10009.1.2.3.10006\n",
      "(0020, 000e) Series Instance UID                 UI: 1.2.840.10009.1.2.3.10006.1\n",
      "(0020, 0013) Instance Number                     IS: '462822612'\n",
      "(0020, 0062) Image Laterality                    CS: 'L'\n",
      "(0028, 0002) Samples per Pixel                   US: 1\n",
      "(0028, 0004) Photometric Interpretation          CS: 'MONOCHROME1'\n",
      "(0028, 0010) Rows                                US: 5355\n",
      "(0028, 0011) Columns                             US: 4915\n",
      "(0028, 0100) Bits Allocated                      US: 16\n",
      "(0028, 0101) Bits Stored                         US: 16\n",
      "(0028, 0102) High Bit                            US: 15\n",
      "(0028, 0103) Pixel Representation                US: 0\n",
      "(0028, 0120) Pixel Padding Value                 US: 3204\n",
      "(0028, 1040) Pixel Intensity Relationship        CS: 'LOG'\n",
      "(0028, 1041) Pixel Intensity Relationship Sign   SS: 1\n",
      "(0028, 1050) Window Center                       DS: [1802.310000, 1802.310000, 2020.704000, 1583.916000]\n",
      "(0028, 1051) Window Width                        DS: [1091.970000, 1091.970000, 1091.970000, 1091.970000]\n",
      "(0028, 1052) Rescale Intercept                   DS: '0.0'\n",
      "(0028, 1053) Rescale Slope                       DS: '1.0'\n",
      "(0028, 1054) Rescale Type                        LO: 'US'\n",
      "(0028, 1056) VOI LUT Function                    CS: 'SIGMOID'\n",
      "(0028, 1350) Partial View                        CS: 'NO'\n",
      "(0028, 2110) Lossy Image Compression             CS: '00'\n",
      "(7fe0, 0010) Pixel Data                          OW: Array of 2718576 elements\n",
      "image file %s train_images/10006/1874946579.dcm\n",
      "Dataset.file_meta -------------------------------\n",
      "(0002, 0001) File Meta Information Version       OB: b'\\x00\\x01'\n",
      "(0002, 0002) Media Storage SOP Class UID         UI: Digital X-Ray Image Storage - For Presentation\n",
      "(0002, 0003) Media Storage SOP Instance UID      UI: 1.2.840.10009.1.2.3.10006.1.1874946579\n",
      "(0002, 0010) Transfer Syntax UID                 UI: JPEG 2000 Image Compression (Lossless Only)\n",
      "(0002, 0012) Implementation Class UID            UI: 1.2.840.113654.2.3.1995.2.12.0\n",
      "(0002, 0013) Implementation Version Name         SH: 'PYDICOM 2.3.0'\n",
      "-------------------------------------------------\n",
      "(0008, 0018) SOP Instance UID                    UI: 1.2.840.10009.1.2.3.10006.1.1874946579\n",
      "(0008, 0023) Content Date                        DA: '20221118'\n",
      "(0008, 0033) Content Time                        TM: '183902.142082'\n",
      "(0010, 0020) Patient ID                          LO: '10006'\n",
      "(0020, 000d) Study Instance UID                  UI: 1.2.840.10009.1.2.3.10006\n",
      "(0020, 000e) Series Instance UID                 UI: 1.2.840.10009.1.2.3.10006.1\n",
      "(0020, 0013) Instance Number                     IS: '1874946579'\n",
      "(0020, 0062) Image Laterality                    CS: 'R'\n",
      "(0028, 0002) Samples per Pixel                   US: 1\n",
      "(0028, 0004) Photometric Interpretation          CS: 'MONOCHROME1'\n",
      "(0028, 0010) Rows                                US: 5355\n",
      "(0028, 0011) Columns                             US: 4915\n",
      "(0028, 0100) Bits Allocated                      US: 16\n",
      "(0028, 0101) Bits Stored                         US: 16\n",
      "(0028, 0102) High Bit                            US: 15\n",
      "(0028, 0103) Pixel Representation                US: 0\n",
      "(0028, 0120) Pixel Padding Value                 US: 3044\n",
      "(0028, 1040) Pixel Intensity Relationship        CS: 'LOG'\n",
      "(0028, 1041) Pixel Intensity Relationship Sign   SS: 1\n",
      "(0028, 1050) Window Center                       DS: [1802.310000, 1802.310000, 2020.704000, 1583.916000]\n",
      "(0028, 1051) Window Width                        DS: [1091.970000, 1091.970000, 1091.970000, 1091.970000]\n",
      "(0028, 1052) Rescale Intercept                   DS: '0.0'\n",
      "(0028, 1053) Rescale Slope                       DS: '1.0'\n",
      "(0028, 1054) Rescale Type                        LO: 'US'\n",
      "(0028, 1056) VOI LUT Function                    CS: 'SIGMOID'\n",
      "(0028, 1350) Partial View                        CS: 'NO'\n",
      "(0028, 2110) Lossy Image Compression             CS: '00'\n",
      "(7fe0, 0010) Pixel Data                          OW: Array of 2372022 elements\n",
      "image file %s train_images/10006/1459541791.dcm\n",
      "Dataset.file_meta -------------------------------\n",
      "(0002, 0001) File Meta Information Version       OB: b'\\x00\\x01'\n",
      "(0002, 0002) Media Storage SOP Class UID         UI: Digital X-Ray Image Storage - For Presentation\n",
      "(0002, 0003) Media Storage SOP Instance UID      UI: 1.2.840.10009.1.2.3.10006.1.1459541791\n",
      "(0002, 0010) Transfer Syntax UID                 UI: JPEG 2000 Image Compression (Lossless Only)\n",
      "(0002, 0012) Implementation Class UID            UI: 1.2.840.113654.2.3.1995.2.12.0\n",
      "(0002, 0013) Implementation Version Name         SH: 'PYDICOM 2.3.0'\n",
      "-------------------------------------------------\n",
      "(0008, 0018) SOP Instance UID                    UI: 1.2.840.10009.1.2.3.10006.1.1459541791\n",
      "(0008, 0023) Content Date                        DA: '20221118'\n",
      "(0008, 0033) Content Time                        TM: '183901.792591'\n",
      "(0010, 0020) Patient ID                          LO: '10006'\n",
      "(0020, 000d) Study Instance UID                  UI: 1.2.840.10009.1.2.3.10006\n",
      "(0020, 000e) Series Instance UID                 UI: 1.2.840.10009.1.2.3.10006.1\n",
      "(0020, 0013) Instance Number                     IS: '1459541791'\n",
      "(0020, 0062) Image Laterality                    CS: 'L'\n",
      "(0028, 0002) Samples per Pixel                   US: 1\n",
      "(0028, 0004) Photometric Interpretation          CS: 'MONOCHROME1'\n",
      "(0028, 0010) Rows                                US: 5355\n",
      "(0028, 0011) Columns                             US: 4915\n",
      "(0028, 0100) Bits Allocated                      US: 16\n",
      "(0028, 0101) Bits Stored                         US: 16\n",
      "(0028, 0102) High Bit                            US: 15\n",
      "(0028, 0103) Pixel Representation                US: 0\n",
      "(0028, 0120) Pixel Padding Value                 US: 3044\n",
      "(0028, 1040) Pixel Intensity Relationship        CS: 'LOG'\n",
      "(0028, 1041) Pixel Intensity Relationship Sign   SS: 1\n",
      "(0028, 1050) Window Center                       DS: [1802.310000, 1802.310000, 2020.704000, 1583.916000]\n",
      "(0028, 1051) Window Width                        DS: [1091.970000, 1091.970000, 1091.970000, 1091.970000]\n",
      "(0028, 1052) Rescale Intercept                   DS: '0.0'\n",
      "(0028, 1053) Rescale Slope                       DS: '1.0'\n",
      "(0028, 1054) Rescale Type                        LO: 'US'\n",
      "(0028, 1056) VOI LUT Function                    CS: 'SIGMOID'\n",
      "(0028, 1350) Partial View                        CS: 'NO'\n",
      "(0028, 2110) Lossy Image Compression             CS: '00'\n",
      "(7fe0, 0010) Pixel Data                          OW: Array of 4362044 elements\n"
     ]
    }
   ],
   "source": [
    "#test_image = pydicom.read_file('train_images/10006/1459541791.dcm')\n",
    "u = []\n",
    "for s in glob(\"train_images/10006/*.dcm\"):\n",
    "    print(\"image file %s\", s)\n",
    "    img_test = pydicom.read_file(s)    \n",
    "    u.append(img_test.pixel_array)\n",
    "    #plt.imshow(img_test.pixel_array)\n",
    "    print(img_test)\n"
   ]
  },
  {
   "cell_type": "code",
   "execution_count": 34,
   "id": "7b671a88",
   "metadata": {},
   "outputs": [
    {
     "name": "stderr",
     "output_type": "stream",
     "text": [
      "W: DcmMetaInfo: No Group Length available in Meta Information Header\n",
      "W: DcmItem: Length of element (7fe0,0010) is not a multiple of 2 (VR=OW)\n",
      "W: DcmMetaInfo: No Group Length available in Meta Information Header\n",
      "W: DcmItem: Length of element (7fe0,0010) is not a multiple of 2 (VR=OW)\n",
      "W: DcmMetaInfo: No Group Length available in Meta Information Header\n",
      "W: DcmItem: Length of element (7fe0,0010) is not a multiple of 2 (VR=OW)\n"
     ]
    },
    {
     "data": {
      "image/png": "[encoded data removed]",
      "text/plain": [
       "<Figure size 720x720 with 2 Axes>"
      ]
     },
     "metadata": {
      "needs_background": "light"
     },
     "output_type": "display_data"
    }
   ],
   "source": [
    "import tensorflow_io as tfio\n",
    "\n",
    "image_bytes = tf.io.read_file('train_images/10006/1459541791.dcm')\n",
    "\n",
    "image = tfio.image.decode_dicom_image(image_bytes, dtype=tf.uint16)\n",
    "\n",
    "skipped = tfio.image.decode_dicom_image(image_bytes, on_error='skip', dtype=tf.uint8)\n",
    "\n",
    "lossy_image = tfio.image.decode_dicom_image(image_bytes, scale='auto', on_error='lossy', dtype=tf.uint8)\n",
    "\n",
    "\n",
    "fig, axes = plt.subplots(1,2, figsize=(10,10))\n",
    "axes[0].imshow(np.squeeze(image.numpy()), cmap='gray')\n",
    "axes[0].set_title('image')\n",
    "axes[1].imshow(np.squeeze(lossy_image.numpy()), cmap='gray')\n",
    "axes[1].set_title('lossy image');"
   ]
  },
  {
   "cell_type": "code",
   "execution_count": 35,
   "id": "6eee8e38",
   "metadata": {},
   "outputs": [
    {
     "name": "stdout",
     "output_type": "stream",
     "text": [
      "tf.Tensor(b'', shape=(), dtype=string)\n"
     ]
    },
    {
     "name": "stderr",
     "output_type": "stream",
     "text": [
      "W: DcmMetaInfo: No Group Length available in Meta Information Header\n",
      "W: DcmItem: Length of element (7fe0,0010) is not a multiple of 2 (VR=OW)\n"
     ]
    }
   ],
   "source": [
    "tag_id = tfio.image.dicom_tags.PatientsAge\n",
    "tag_value = tfio.image.decode_dicom_data(image_bytes,tag_id)\n",
    "print(tag_value)"
   ]
  },
  {
   "cell_type": "code",
   "execution_count": 36,
   "id": "80d0b2ef",
   "metadata": {},
   "outputs": [
    {
     "name": "stdout",
     "output_type": "stream",
     "text": [
      "PatientsSex : \n"
     ]
    },
    {
     "name": "stderr",
     "output_type": "stream",
     "text": [
      "W: DcmMetaInfo: No Group Length available in Meta Information Header\n",
      "W: DcmItem: Length of element (7fe0,0010) is not a multiple of 2 (VR=OW)\n"
     ]
    }
   ],
   "source": [
    "tag_id = tfio.image.dicom_tags.PatientsSex\n",
    "tag_value = tfio.image.decode_dicom_data(image_bytes,tag_id)\n",
    "print(f\"PatientsSex : {tag_value.numpy().decode('UTF-8')}\")"
   ]
  },
  {
   "cell_type": "code",
   "execution_count": 37,
   "id": "4b9af698",
   "metadata": {},
   "outputs": [
    {
     "name": "stdout",
     "output_type": "stream",
     "text": [
      "rnsa_cnn_init.ipynb             \u001b[34mtest_images\u001b[m\u001b[m/\r\n",
      "rnsa_cnn_preprocess_test.ipynb  train.csv\r\n",
      "sample_submission.csv           \u001b[34mtrain_images\u001b[m\u001b[m/\r\n",
      "test.csv\r\n"
     ]
    }
   ],
   "source": [
    "ls"
   ]
  },
  {
   "cell_type": "code",
   "execution_count": 38,
   "id": "e7c2d9c6",
   "metadata": {},
   "outputs": [],
   "source": [
    "train_df = pd.read_csv(\"train.csv\")\n",
    "test_df = pd.read_csv(\"test.csv\")"
   ]
  },
  {
   "cell_type": "code",
   "execution_count": 39,
   "id": "b4a5b126",
   "metadata": {},
   "outputs": [
    {
     "data": {
      "text/html": [
       "<div>\n",
       "<style scoped>\n",
       "    .dataframe tbody tr th:only-of-type {\n",
       "        vertical-align: middle;\n",
       "    }\n",
       "\n",
       "    .dataframe tbody tr th {\n",
       "        vertical-align: top;\n",
       "    }\n",
       "\n",
       "    .dataframe thead th {\n",
       "        text-align: right;\n",
       "    }\n",
       "</style>\n",
       "<table border=\"1\" class=\"dataframe\">\n",
       "  <thead>\n",
       "    <tr style=\"text-align: right;\">\n",
       "      <th></th>\n",
       "      <th>site_id</th>\n",
       "      <th>patient_id</th>\n",
       "      <th>image_id</th>\n",
       "      <th>laterality</th>\n",
       "      <th>view</th>\n",
       "      <th>age</th>\n",
       "      <th>cancer</th>\n",
       "      <th>biopsy</th>\n",
       "      <th>invasive</th>\n",
       "      <th>BIRADS</th>\n",
       "      <th>implant</th>\n",
       "      <th>density</th>\n",
       "      <th>machine_id</th>\n",
       "      <th>difficult_negative_case</th>\n",
       "    </tr>\n",
       "  </thead>\n",
       "  <tbody>\n",
       "    <tr>\n",
       "      <th>0</th>\n",
       "      <td>2</td>\n",
       "      <td>10006</td>\n",
       "      <td>462822612</td>\n",
       "      <td>L</td>\n",
       "      <td>CC</td>\n",
       "      <td>61.0</td>\n",
       "      <td>0</td>\n",
       "      <td>0</td>\n",
       "      <td>0</td>\n",
       "      <td>NaN</td>\n",
       "      <td>0</td>\n",
       "      <td>NaN</td>\n",
       "      <td>29</td>\n",
       "      <td>False</td>\n",
       "    </tr>\n",
       "    <tr>\n",
       "      <th>1</th>\n",
       "      <td>2</td>\n",
       "      <td>10006</td>\n",
       "      <td>1459541791</td>\n",
       "      <td>L</td>\n",
       "      <td>MLO</td>\n",
       "      <td>61.0</td>\n",
       "      <td>0</td>\n",
       "      <td>0</td>\n",
       "      <td>0</td>\n",
       "      <td>NaN</td>\n",
       "      <td>0</td>\n",
       "      <td>NaN</td>\n",
       "      <td>29</td>\n",
       "      <td>False</td>\n",
       "    </tr>\n",
       "    <tr>\n",
       "      <th>2</th>\n",
       "      <td>2</td>\n",
       "      <td>10006</td>\n",
       "      <td>1864590858</td>\n",
       "      <td>R</td>\n",
       "      <td>MLO</td>\n",
       "      <td>61.0</td>\n",
       "      <td>0</td>\n",
       "      <td>0</td>\n",
       "      <td>0</td>\n",
       "      <td>NaN</td>\n",
       "      <td>0</td>\n",
       "      <td>NaN</td>\n",
       "      <td>29</td>\n",
       "      <td>False</td>\n",
       "    </tr>\n",
       "    <tr>\n",
       "      <th>3</th>\n",
       "      <td>2</td>\n",
       "      <td>10006</td>\n",
       "      <td>1874946579</td>\n",
       "      <td>R</td>\n",
       "      <td>CC</td>\n",
       "      <td>61.0</td>\n",
       "      <td>0</td>\n",
       "      <td>0</td>\n",
       "      <td>0</td>\n",
       "      <td>NaN</td>\n",
       "      <td>0</td>\n",
       "      <td>NaN</td>\n",
       "      <td>29</td>\n",
       "      <td>False</td>\n",
       "    </tr>\n",
       "    <tr>\n",
       "      <th>4</th>\n",
       "      <td>2</td>\n",
       "      <td>10011</td>\n",
       "      <td>220375232</td>\n",
       "      <td>L</td>\n",
       "      <td>CC</td>\n",
       "      <td>55.0</td>\n",
       "      <td>0</td>\n",
       "      <td>0</td>\n",
       "      <td>0</td>\n",
       "      <td>0.0</td>\n",
       "      <td>0</td>\n",
       "      <td>NaN</td>\n",
       "      <td>21</td>\n",
       "      <td>True</td>\n",
       "    </tr>\n",
       "  </tbody>\n",
       "</table>\n",
       "</div>"
      ],
      "text/plain": [
       "   site_id  patient_id    image_id laterality view   age  cancer  biopsy  \\\n",
       "0        2       10006   462822612          L   CC  61.0       0       0   \n",
       "1        2       10006  1459541791          L  MLO  61.0       0       0   \n",
       "2        2       10006  1864590858          R  MLO  61.0       0       0   \n",
       "3        2       10006  1874946579          R   CC  61.0       0       0   \n",
       "4        2       10011   220375232          L   CC  55.0       0       0   \n",
       "\n",
       "   invasive  BIRADS  implant density  machine_id  difficult_negative_case  \n",
       "0         0     NaN        0     NaN          29                    False  \n",
       "1         0     NaN        0     NaN          29                    False  \n",
       "2         0     NaN        0     NaN          29                    False  \n",
       "3         0     NaN        0     NaN          29                    False  \n",
       "4         0     0.0        0     NaN          21                     True  "
      ]
     },
     "execution_count": 39,
     "metadata": {},
     "output_type": "execute_result"
    }
   ],
   "source": [
    "train_df.head()"
   ]
  },
  {
   "cell_type": "code",
   "execution_count": 40,
   "id": "8d6abe5d",
   "metadata": {},
   "outputs": [
    {
     "data": {
      "text/plain": [
       "0"
      ]
     },
     "execution_count": 40,
     "metadata": {},
     "output_type": "execute_result"
    }
   ],
   "source": [
    "train_df[\"cancer\"][train_df[\"patient_id\"] == 10006][0]"
   ]
  },
  {
   "cell_type": "code",
   "execution_count": 41,
   "id": "2f03cb15",
   "metadata": {},
   "outputs": [
    {
     "data": {
      "text/html": [
       "<div>\n",
       "<style scoped>\n",
       "    .dataframe tbody tr th:only-of-type {\n",
       "        vertical-align: middle;\n",
       "    }\n",
       "\n",
       "    .dataframe tbody tr th {\n",
       "        vertical-align: top;\n",
       "    }\n",
       "\n",
       "    .dataframe thead th {\n",
       "        text-align: right;\n",
       "    }\n",
       "</style>\n",
       "<table border=\"1\" class=\"dataframe\">\n",
       "  <thead>\n",
       "    <tr style=\"text-align: right;\">\n",
       "      <th></th>\n",
       "      <th>site_id</th>\n",
       "      <th>patient_id</th>\n",
       "      <th>image_id</th>\n",
       "      <th>laterality</th>\n",
       "      <th>view</th>\n",
       "      <th>age</th>\n",
       "      <th>implant</th>\n",
       "      <th>machine_id</th>\n",
       "      <th>prediction_id</th>\n",
       "    </tr>\n",
       "  </thead>\n",
       "  <tbody>\n",
       "    <tr>\n",
       "      <th>0</th>\n",
       "      <td>2</td>\n",
       "      <td>10008</td>\n",
       "      <td>736471439</td>\n",
       "      <td>L</td>\n",
       "      <td>MLO</td>\n",
       "      <td>81</td>\n",
       "      <td>0</td>\n",
       "      <td>21</td>\n",
       "      <td>10008_L</td>\n",
       "    </tr>\n",
       "    <tr>\n",
       "      <th>1</th>\n",
       "      <td>2</td>\n",
       "      <td>10008</td>\n",
       "      <td>1591370361</td>\n",
       "      <td>L</td>\n",
       "      <td>CC</td>\n",
       "      <td>81</td>\n",
       "      <td>0</td>\n",
       "      <td>21</td>\n",
       "      <td>10008_L</td>\n",
       "    </tr>\n",
       "    <tr>\n",
       "      <th>2</th>\n",
       "      <td>2</td>\n",
       "      <td>10008</td>\n",
       "      <td>68070693</td>\n",
       "      <td>R</td>\n",
       "      <td>MLO</td>\n",
       "      <td>81</td>\n",
       "      <td>0</td>\n",
       "      <td>21</td>\n",
       "      <td>10008_R</td>\n",
       "    </tr>\n",
       "    <tr>\n",
       "      <th>3</th>\n",
       "      <td>2</td>\n",
       "      <td>10008</td>\n",
       "      <td>361203119</td>\n",
       "      <td>R</td>\n",
       "      <td>CC</td>\n",
       "      <td>81</td>\n",
       "      <td>0</td>\n",
       "      <td>21</td>\n",
       "      <td>10008_R</td>\n",
       "    </tr>\n",
       "  </tbody>\n",
       "</table>\n",
       "</div>"
      ],
      "text/plain": [
       "   site_id  patient_id    image_id laterality view  age  implant  machine_id  \\\n",
       "0        2       10008   736471439          L  MLO   81        0          21   \n",
       "1        2       10008  1591370361          L   CC   81        0          21   \n",
       "2        2       10008    68070693          R  MLO   81        0          21   \n",
       "3        2       10008   361203119          R   CC   81        0          21   \n",
       "\n",
       "  prediction_id  \n",
       "0       10008_L  \n",
       "1       10008_L  \n",
       "2       10008_R  \n",
       "3       10008_R  "
      ]
     },
     "execution_count": 41,
     "metadata": {},
     "output_type": "execute_result"
    }
   ],
   "source": [
    "test_df.head()"
   ]
  },
  {
   "cell_type": "code",
   "execution_count": 42,
   "id": "da99e76d",
   "metadata": {},
   "outputs": [
    {
     "data": {
      "image/png": "[encoded data removed]",
      "text/plain": [
       "<Figure size 432x576 with 1 Axes>"
      ]
     },
     "metadata": {
      "needs_background": "light"
     },
     "output_type": "display_data"
    }
   ],
   "source": [
    "plt.figure(figsize=(6, 8))\n",
    "train_df.isna().mean().plot(kind=\"barh\")\n",
    "plt.title(\"Missing value rates\");"
   ]
  },
  {
   "cell_type": "code",
   "execution_count": 43,
   "id": "f6226d28",
   "metadata": {},
   "outputs": [
    {
     "data": {
      "text/plain": [
       "site_id          1\n",
       "patient_id       1\n",
       "image_id         4\n",
       "laterality       2\n",
       "view             2\n",
       "age              1\n",
       "implant          1\n",
       "machine_id       1\n",
       "prediction_id    2\n",
       "dtype: int64"
      ]
     },
     "execution_count": 43,
     "metadata": {},
     "output_type": "execute_result"
    }
   ],
   "source": [
    "test_df.nunique()"
   ]
  },
  {
   "cell_type": "code",
   "execution_count": 44,
   "id": "340df177",
   "metadata": {},
   "outputs": [
    {
     "data": {
      "text/plain": [
       "54706"
      ]
     },
     "execution_count": 44,
     "metadata": {},
     "output_type": "execute_result"
    }
   ],
   "source": [
    "train_images = glob(\"train_images/*/*.dcm\")\n",
    "len(train_images)"
   ]
  },
  {
   "cell_type": "code",
   "execution_count": 45,
   "id": "e09ec4ec",
   "metadata": {},
   "outputs": [
    {
     "data": {
      "text/plain": [
       "'train_images/1069/1313414003.dcm'"
      ]
     },
     "execution_count": 45,
     "metadata": {},
     "output_type": "execute_result"
    }
   ],
   "source": [
    "train_images[0]"
   ]
  },
  {
   "cell_type": "code",
   "execution_count": 46,
   "id": "cf02d491",
   "metadata": {},
   "outputs": [
    {
     "name": "stdout",
     "output_type": "stream",
     "text": [
      "Dataset.file_meta -------------------------------\n",
      "(0002, 0001) File Meta Information Version       OB: b'\\x00\\x01'\n",
      "(0002, 0002) Media Storage SOP Class UID         UI: Digital X-Ray Image Storage - For Presentation\n",
      "(0002, 0003) Media Storage SOP Instance UID      UI: 1.2.840.10009.1.2.3.1069.1.1313414003\n",
      "(0002, 0010) Transfer Syntax UID                 UI: JPEG 2000 Image Compression (Lossless Only)\n",
      "(0002, 0012) Implementation Class UID            UI: 1.2.840.113654.2.3.1995.2.12.0\n",
      "(0002, 0013) Implementation Version Name         SH: 'PYDICOM 2.3.0'\n",
      "-------------------------------------------------\n",
      "(0008, 0018) SOP Instance UID                    UI: 1.2.840.10009.1.2.3.1069.1.1313414003\n",
      "(0008, 0023) Content Date                        DA: '20221118'\n",
      "(0008, 0033) Content Time                        TM: '184021.071147'\n",
      "(0010, 0020) Patient ID                          LO: '1069'\n",
      "(0020, 000d) Study Instance UID                  UI: 1.2.840.10009.1.2.3.1069\n",
      "(0020, 000e) Series Instance UID                 UI: 1.2.840.10009.1.2.3.1069.1\n",
      "(0020, 0013) Instance Number                     IS: '1313414003'\n",
      "(0020, 0062) Image Laterality                    CS: 'L'\n",
      "(0028, 0002) Samples per Pixel                   US: 1\n",
      "(0028, 0004) Photometric Interpretation          CS: 'MONOCHROME2'\n",
      "(0028, 0010) Rows                                US: 2776\n",
      "(0028, 0011) Columns                             US: 2082\n",
      "(0028, 0100) Bits Allocated                      US: 16\n",
      "(0028, 0101) Bits Stored                         US: 12\n",
      "(0028, 0102) High Bit                            US: 11\n",
      "(0028, 0103) Pixel Representation                US: 0\n",
      "(0028, 0120) Pixel Padding Value                 US: 0\n",
      "(0028, 1040) Pixel Intensity Relationship        CS: 'LOG'\n",
      "(0028, 1041) Pixel Intensity Relationship Sign   SS: 1\n",
      "(0028, 1050) Window Center                       DS: '1643.0'\n",
      "(0028, 1051) Window Width                        DS: '1500.0'\n",
      "(0028, 1052) Rescale Intercept                   DS: '0.0'\n",
      "(0028, 1053) Rescale Slope                       DS: '1.0'\n",
      "(0028, 1054) Rescale Type                        LO: 'US'\n",
      "(0028, 1350) Partial View                        CS: 'NO'\n",
      "(0028, 2110) Lossy Image Compression             CS: '00'\n",
      "(7fe0, 0010) Pixel Data                          OW: Array of 2868614 elements\n"
     ]
    }
   ],
   "source": [
    "train_image0 = pydicom.read_file(train_images[0])\n",
    "print(train_image0)"
   ]
  },
  {
   "cell_type": "code",
   "execution_count": 47,
   "id": "9c8ad9f2",
   "metadata": {},
   "outputs": [],
   "source": [
    "train_image0_array = train_image0.pixel_array"
   ]
  },
  {
   "cell_type": "code",
   "execution_count": 48,
   "id": "75ce4c97",
   "metadata": {},
   "outputs": [
    {
     "name": "stdout",
     "output_type": "stream",
     "text": [
      "[[1784 1760 1686 ...    0    0    0]\n",
      " [1687 1754 1732 ...    0    0    0]\n",
      " [1682 1687 1736 ...    0    0    0]\n",
      " ...\n",
      " [1040 1043 1044 ...    0    0    0]\n",
      " [1034 1041 1059 ...    0    0    0]\n",
      " [1070 1059 1070 ...    0    0    0]]\n"
     ]
    }
   ],
   "source": [
    "print(train_image0_array)"
   ]
  },
  {
   "cell_type": "code",
   "execution_count": 49,
   "id": "087e62c8",
   "metadata": {},
   "outputs": [
    {
     "name": "stdout",
     "output_type": "stream",
     "text": [
      "(2776, 2082)\n"
     ]
    }
   ],
   "source": [
    "print(train_image0_array.shape)"
   ]
  },
  {
   "cell_type": "code",
   "execution_count": 50,
   "id": "5ca0a900",
   "metadata": {},
   "outputs": [
    {
     "name": "stdout",
     "output_type": "stream",
     "text": [
      "0\n",
      "2342\n"
     ]
    },
    {
     "data": {
      "image/png": "[encoded data removed]",
      "text/plain": [
       "<Figure size 432x288 with 1 Axes>"
      ]
     },
     "metadata": {
      "needs_background": "light"
     },
     "output_type": "display_data"
    }
   ],
   "source": [
    "plt.imshow(train_image0_array)\n",
    "print(train_image0_array.min())\n",
    "print(train_image0_array.max())"
   ]
  },
  {
   "cell_type": "code",
   "execution_count": 51,
   "id": "761376d9",
   "metadata": {},
   "outputs": [],
   "source": [
    "# cf https://towardsdatascience.com/medical-image-pre-processing-with-python-d07694852606\n",
    "# Five steps of preprocessing: \n",
    "# Transforming to HU, Removing Noises, Tilt Correction, Crop Images and Padding.\n",
    "def transform_to_hu(medical_image, image):\n",
    "    intercept = medical_image.RescaleIntercept\n",
    "    slope = medical_image.RescaleSlope\n",
    "    hu_image = image * slope + intercept\n",
    "\n",
    "    return hu_image\n",
    "def window_image(image, window_center, window_width):\n",
    "    img_min = window_center - window_width // 2\n",
    "    img_max = window_center + window_width // 2\n",
    "    window_image = image.copy()\n",
    "    window_image[window_image < img_min] = img_min\n",
    "    window_image[window_image > img_max] = img_max\n",
    "    \n",
    "    return window_image"
   ]
  },
  {
   "cell_type": "code",
   "execution_count": 52,
   "id": "e090ae42",
   "metadata": {},
   "outputs": [],
   "source": [
    "from scipy import ndimage"
   ]
  },
  {
   "cell_type": "code",
   "execution_count": 53,
   "id": "f055e51b",
   "metadata": {},
   "outputs": [],
   "source": [
    "def remove_noise(file_path, display=False):\n",
    "    medical_image = pydicom.read_file(file_path)\n",
    "    image = medical_image.pixel_array\n",
    "    \n",
    "    hu_image = transform_to_hu(medical_image, image)\n",
    "    # I am not sure why some scans have multiple window_center values while some have only one\n",
    "    # So naively I just take the average of their values\n",
    "    # TODO: to better understand the mammography images...\n",
    "    window_center = np.array(medical_image.WindowCenter).mean()\n",
    "    window_width = np.array(medical_image.WindowWidth).mean()\n",
    "    windowed_image = window_image(hu_image, window_center, window_width) \n",
    "    \n",
    "    segmentation = morphology.dilation(windowed_image, np.ones((1, 1)))\n",
    "    labels, label_nb = ndimage.label(segmentation)\n",
    "    \n",
    "    label_count = np.bincount(labels.ravel().astype(np.int))\n",
    "    label_count[0] = 0\n",
    "\n",
    "    mask = labels == label_count.argmax()\n",
    " \n",
    "    mask = morphology.dilation(mask, np.ones((1, 1)))\n",
    "    mask = ndimage.morphology.binary_fill_holes(mask)\n",
    "    mask = morphology.dilation(mask, np.ones((3, 3)))\n",
    "    masked_image = mask * windowed_image\n",
    "    return masked_image"
   ]
  },
  {
   "cell_type": "code",
   "execution_count": 54,
   "id": "1b6782cd",
   "metadata": {},
   "outputs": [
    {
     "data": {
      "text/plain": [
       "1802.31"
      ]
     },
     "execution_count": 54,
     "metadata": {},
     "output_type": "execute_result"
    }
   ],
   "source": [
    "file_path = \"train_images/10006/1459541791.dcm\"\n",
    "medical_image = pydicom.read_file(file_path)\n",
    "image = medical_image.pixel_array\n",
    "\n",
    "#hu_image = transform_to_hu(medical_image, image)\n",
    "#window_center = medical_image.WindowCenter\n",
    "#window_width = medical_image.WindowWidth\n",
    "#windowed_image = window_image(hu_image, window_center, window_width) \n",
    "np.array(medical_image.WindowCenter)[0].mean()"
   ]
  },
  {
   "cell_type": "code",
   "execution_count": 55,
   "id": "ddf22296",
   "metadata": {},
   "outputs": [],
   "source": [
    "# for tilt correction\n",
    "# not sure if it is useful for breast cancer as the original data is for brain ct\n",
    "# tbd"
   ]
  },
  {
   "cell_type": "code",
   "execution_count": 56,
   "id": "edf5d851",
   "metadata": {},
   "outputs": [],
   "source": [
    "def crop_image(image, display = False):\n",
    "    mask = image == 0\n",
    "    coords = np.array(np.nonzero(~mask))\n",
    "    top_left = np.min(coords, axis = 1)\n",
    "    bottom_right = np.max(coords, axis = 1)\n",
    "    cropped_image = image[top_left[0]:bottom_right[0],\n",
    "                         top_left[1]:bottom_right[1]]\n",
    "    return cropped_image"
   ]
  },
  {
   "cell_type": "code",
   "execution_count": 57,
   "id": "883c68cd",
   "metadata": {},
   "outputs": [],
   "source": [
    "def add_pad(image, new_height=512, new_width=512):\n",
    "    height, width = image.shape\n",
    "\n",
    "    final_image = np.zeros((new_height, new_width))\n",
    "\n",
    "    pad_left = int((new_width - width) // 2)\n",
    "    pad_top = int((new_height - height) // 2)\n",
    "    \n",
    "    \n",
    "    # Replace the pixels with the image's pixels\n",
    "    final_image[pad_top:pad_top + height, pad_left:pad_left + width] = image\n",
    "    \n",
    "    return final_image"
   ]
  },
  {
   "cell_type": "code",
   "execution_count": 58,
   "id": "03c92c2d",
   "metadata": {},
   "outputs": [],
   "source": [
    "hu_image = transform_to_hu( train_image0, train_image0_array)\n",
    "windowed_image0 = window_image(hu_image, train_image0.WindowCenter, train_image0.WindowWidth)"
   ]
  },
  {
   "cell_type": "code",
   "execution_count": 59,
   "id": "a583f477",
   "metadata": {},
   "outputs": [
    {
     "data": {
      "text/plain": [
       "<matplotlib.image.AxesImage at 0x7f7d8d156fd0>"
      ]
     },
     "execution_count": 59,
     "metadata": {},
     "output_type": "execute_result"
    },
    {
     "data": {
      "image/png": "[encoded data removed]",
      "text/plain": [
       "<Figure size 432x288 with 1 Axes>"
      ]
     },
     "metadata": {
      "needs_background": "light"
     },
     "output_type": "display_data"
    }
   ],
   "source": [
    "plt.imshow(windowed_image0)"
   ]
  },
  {
   "cell_type": "code",
   "execution_count": 60,
   "id": "2616bb9a",
   "metadata": {},
   "outputs": [
    {
     "name": "stderr",
     "output_type": "stream",
     "text": [
      "/var/folders/vn/7vh0yxsj5js3z8lj0p09cq1w0000gn/T/ipykernel_89384/1123072781.py:16: DeprecationWarning:\n",
      "\n",
      "`np.int` is a deprecated alias for the builtin `int`. To silence this warning, use `int` by itself. Doing this will not modify any behavior and is safe. When replacing `np.int`, you may wish to use e.g. `np.int64` or `np.int32` to specify the precision. If you wish to review your current use, check the release note link for additional information.\n",
      "Deprecated in NumPy 1.20; for more details and guidance: https://numpy.org/devdocs/release/1.20.0-notes.html#deprecations\n",
      "\n"
     ]
    }
   ],
   "source": [
    "#file_path = \"train_images/10006/1459541791.dcm\"\n",
    "removed_noise_image0 = remove_noise(\"train_images/10006/1459541791.dcm\", display = False)\n",
    "#removed_noise_image0 = remove_noise(patient_all_files[0])"
   ]
  },
  {
   "cell_type": "code",
   "execution_count": 61,
   "id": "a95a1de0",
   "metadata": {},
   "outputs": [],
   "source": [
    "cropped_image0 = crop_image(removed_noise_image0)"
   ]
  },
  {
   "cell_type": "code",
   "execution_count": 62,
   "id": "650483b6",
   "metadata": {},
   "outputs": [
    {
     "data": {
      "text/plain": [
       "(5354, 4914)"
      ]
     },
     "execution_count": 62,
     "metadata": {},
     "output_type": "execute_result"
    }
   ],
   "source": [
    "cropped_image0.shape"
   ]
  },
  {
   "cell_type": "code",
   "execution_count": 63,
   "id": "77023644",
   "metadata": {},
   "outputs": [],
   "source": [
    "# added_pad_image0 = add_pad(cropped_image0)"
   ]
  },
  {
   "cell_type": "code",
   "execution_count": 64,
   "id": "f8f28ff7",
   "metadata": {},
   "outputs": [
    {
     "data": {
      "text/plain": [
       "<matplotlib.image.AxesImage at 0x7f7d9b9663a0>"
      ]
     },
     "execution_count": 64,
     "metadata": {},
     "output_type": "execute_result"
    },
    {
     "data": {
      "image/png": "[encoded data removed]",
      "text/plain": [
       "<Figure size 432x288 with 1 Axes>"
      ]
     },
     "metadata": {
      "needs_background": "light"
     },
     "output_type": "display_data"
    }
   ],
   "source": [
    "plt.imshow(cropped_image0)"
   ]
  },
  {
   "cell_type": "code",
   "execution_count": 65,
   "id": "8452eb63",
   "metadata": {},
   "outputs": [
    {
     "data": {
      "text/plain": [
       "<matplotlib.image.AxesImage at 0x7f7d8c3e51f0>"
      ]
     },
     "execution_count": 65,
     "metadata": {},
     "output_type": "execute_result"
    },
    {
     "data": {
      "image/png": "[encoded data removed]",
      "text/plain": [
       "<Figure size 432x288 with 1 Axes>"
      ]
     },
     "metadata": {
      "needs_background": "light"
     },
     "output_type": "display_data"
    }
   ],
   "source": [
    "plt.imshow(removed_noise_image0)"
   ]
  },
  {
   "cell_type": "code",
   "execution_count": 66,
   "id": "18134c6c",
   "metadata": {},
   "outputs": [
    {
     "data": {
      "text/plain": [
       "<matplotlib.image.AxesImage at 0x7f7cc50c81f0>"
      ]
     },
     "execution_count": 66,
     "metadata": {},
     "output_type": "execute_result"
    },
    {
     "data": {
      "image/png": "[encoded data removed]",
      "text/plain": [
       "<Figure size 432x288 with 1 Axes>"
      ]
     },
     "metadata": {
      "needs_background": "light"
     },
     "output_type": "display_data"
    }
   ],
   "source": [
    "plt.imshow(train_image0_array)"
   ]
  },
  {
   "cell_type": "code",
   "execution_count": 67,
   "id": "8beb9144",
   "metadata": {},
   "outputs": [],
   "source": [
    "# wrap the above functions up into one master func\n",
    "def preprocess_dicom(file):\n",
    "    removed_noise_image0 = remove_noise(file, display = False)\n",
    "    cropped_image = crop_image(removed_noise_image0)\n",
    "    return cropped_image"
   ]
  },
  {
   "cell_type": "code",
   "execution_count": 70,
   "id": "9f202190",
   "metadata": {},
   "outputs": [],
   "source": [
    "if_patient_in_train_csv = []\n",
    "all_patients = os.listdir(\"train_images/\")\n",
    "for patient in all_patients:\n",
    "    if patient not in str(train_df[\"patient_id\"]):\n",
    "        if_patient_in_train_csv.append(False)\n",
    "    else:\n",
    "        if_patient_in_train_csv.append(True)\n",
    "            "
   ]
  },
  {
   "cell_type": "code",
   "execution_count": 71,
   "id": "7de4f786",
   "metadata": {},
   "outputs": [],
   "source": [
    "if_patient_not_in_train_csv = [not x for x in if_patient_in_train_csv]\n",
    "patient_in_train_csv = np.array(all_patients)[if_patient_in_train_csv]\n",
    "patients_not_in_train_csv = np.array(all_patients)[if_patient_not_in_train_csv]"
   ]
  },
  {
   "cell_type": "code",
   "execution_count": 72,
   "id": "30ec23af",
   "metadata": {},
   "outputs": [
    {
     "name": "stdout",
     "output_type": "stream",
     "text": [
      "patient ids as image file folder matched up with train_df.csv : ['997' '10006' '54701' '703' '9989' '9973' '547' '10011' '4706' '5'\n",
      " '54704'] the matched ids in total 11\n"
     ]
    }
   ],
   "source": [
    "print(\"patient ids as image file folder matched up with train_df.csv :\", patient_in_train_csv, \"the matched ids in total\", patient_in_train_csv.shape[0])"
   ]
  },
  {
   "cell_type": "code",
   "execution_count": 73,
   "id": "ef2a0626",
   "metadata": {},
   "outputs": [
    {
     "name": "stdout",
     "output_type": "stream",
     "text": [
      "patient ids not matched in the image folder and train_df.csv:  ['1069' '48123' '19781' ... '54351' '986' '46694'] the not matched ids in total 11902\n"
     ]
    }
   ],
   "source": [
    "print(\"patient ids not matched in the image folder and train_df.csv: \", patients_not_in_train_csv, \"the not matched ids in total\", patients_not_in_train_csv.shape[0])"
   ]
  },
  {
   "cell_type": "code",
   "execution_count": 74,
   "id": "ed4b00be",
   "metadata": {},
   "outputs": [
    {
     "name": "stderr",
     "output_type": "stream",
     "text": [
      "/var/folders/vn/7vh0yxsj5js3z8lj0p09cq1w0000gn/T/ipykernel_89384/1123072781.py:16: DeprecationWarning:\n",
      "\n",
      "`np.int` is a deprecated alias for the builtin `int`. To silence this warning, use `int` by itself. Doing this will not modify any behavior and is safe. When replacing `np.int`, you may wish to use e.g. `np.int64` or `np.int32` to specify the precision. If you wish to review your current use, check the release note link for additional information.\n",
      "Deprecated in NumPy 1.20; for more details and guidance: https://numpy.org/devdocs/release/1.20.0-notes.html#deprecations\n",
      "\n"
     ]
    }
   ],
   "source": [
    "# load the data\n",
    "y = []\n",
    "X = []\n",
    "### WARNING: temporary solution. to only get the matched data trained\n",
    "for patient in patient_in_train_csv:\n",
    "    patient_all_files = glob(\"train_images/\"+ patient + \"/*.dcm\")\n",
    "    for patient_file in patient_all_files:        \n",
    "        patient_array = preprocess_dicom(patient_file)\n",
    "        X.append(patient_array)"
   ]
  },
  {
   "cell_type": "code",
   "execution_count": null,
   "id": "9856d6dc",
   "metadata": {},
   "outputs": [],
   "source": [
    "#train_df['cancer'][train_df[\"patient_id\"].astype(str) == (patient_in_train_csv[0])].unique()\n"
   ]
  },
  {
   "cell_type": "code",
   "execution_count": 75,
   "id": "5d8571f9",
   "metadata": {},
   "outputs": [],
   "source": [
    "#print(patient_in_train_csv)\n",
    "#train_df.loc[train_df['patient_id'].astype(str).isin(patient_in_train_csv)]        \n",
    "#y_patient = train_df[\"cancer\"][str(train_df[\"patient_id\"]) == patient][0]\n",
    "#y.append(y_patient)\n",
    "for patient in patient_in_train_csv:\n",
    "    patient_all_files = glob(\"train_images/\"+ patient + \"/*.dcm\")\n",
    "    for patient_file in patient_all_files:  \n",
    "        y_tmp = train_df['cancer'][train_df[\"patient_id\"].astype(str) == (patient_in_train_csv[0])].unique()\n",
    "        y.append(y_tmp)"
   ]
  },
  {
   "cell_type": "code",
   "execution_count": 76,
   "id": "49ce4c67",
   "metadata": {},
   "outputs": [
    {
     "name": "stdout",
     "output_type": "stream",
     "text": [
      "(47,)\n",
      "(47, 1)\n"
     ]
    },
    {
     "name": "stderr",
     "output_type": "stream",
     "text": [
      "/var/folders/vn/7vh0yxsj5js3z8lj0p09cq1w0000gn/T/ipykernel_89384/2311208697.py:1: VisibleDeprecationWarning:\n",
      "\n",
      "Creating an ndarray from ragged nested sequences (which is a list-or-tuple of lists-or-tuples-or ndarrays with different lengths or shapes) is deprecated. If you meant to do this, you must specify 'dtype=object' when creating the ndarray.\n",
      "\n"
     ]
    }
   ],
   "source": [
    "X_array = np.array(X)\n",
    "y_array = np.array(y)\n",
    "print(X_array.shape)\n",
    "print(y_array.shape)"
   ]
  },
  {
   "cell_type": "code",
   "execution_count": 77,
   "id": "e3f2782e",
   "metadata": {},
   "outputs": [],
   "source": [
    "# naively split the train and test data\n",
    "# using the train test split function\n",
    "from sklearn.model_selection import train_test_split\n",
    "X_train, X_val, y_train, y_val = train_test_split(X_array,y_array ,\n",
    "                                   random_state=104, \n",
    "                                   test_size=0.25, \n",
    "                                   shuffle=True)"
   ]
  },
  {
   "cell_type": "code",
   "execution_count": 78,
   "id": "737c8f32",
   "metadata": {},
   "outputs": [],
   "source": [
    "# resize features\n",
    "img_size = 224 # not sure why. but copy from https://www.analyticsvidhya.com/blog/2020/10/create-image-classification-model-python-keras/\n",
    "X_train_resize = []\n",
    "X_val_resize = []\n",
    "for x in X_train:\n",
    "    resized_arr = cv2.resize(x, (img_size, img_size)) # Reshaping images to preferred size\n",
    "    X_train_resize.append(resized_arr)\n",
    "for x in X_val:\n",
    "    resized_arr = cv2.resize(x, (img_size, img_size)) # Reshaping images to preferred size\n",
    "    X_val_resize.append(resized_arr)"
   ]
  },
  {
   "cell_type": "code",
   "execution_count": 79,
   "id": "c551cf6e",
   "metadata": {},
   "outputs": [],
   "source": [
    "# normalize data\n",
    "X_train = np.array(X_train_resize)/255 # not sure why but naively use the online code from https://www.analyticsvidhya.com/blog/2020/10/create-image-classification-model-python-keras/\n",
    "X_train = X_train.reshape(-1, img_size, img_size, 1)\n",
    "\n",
    "X_val = np.array(X_val_resize)/255 # not sure why but naively use the online code from https://www.analyticsvidhya.com/blog/2020/10/create-image-classification-model-python-keras/\n",
    "X_val = X_val.reshape(-1, img_size, img_size, 1)\n"
   ]
  },
  {
   "cell_type": "code",
   "execution_count": 80,
   "id": "36fbbc9f",
   "metadata": {},
   "outputs": [
    {
     "data": {
      "text/plain": [
       "(35, 224, 224, 1)"
      ]
     },
     "execution_count": 80,
     "metadata": {},
     "output_type": "execute_result"
    }
   ],
   "source": [
    "X_train.shape"
   ]
  },
  {
   "cell_type": "code",
   "execution_count": 81,
   "id": "1f02a010",
   "metadata": {},
   "outputs": [
    {
     "data": {
      "text/plain": [
       "(12, 224, 224, 1)"
      ]
     },
     "execution_count": 81,
     "metadata": {},
     "output_type": "execute_result"
    }
   ],
   "source": [
    "X_train.shape\n",
    "X_val.shape"
   ]
  },
  {
   "cell_type": "code",
   "execution_count": 82,
   "id": "20feb005",
   "metadata": {},
   "outputs": [],
   "source": [
    "import seaborn as sns\n",
    "\n",
    "import keras\n",
    "from keras.models import Sequential\n",
    "from keras.layers import Dense, Conv2D , MaxPool2D , Flatten , Dropout \n",
    "from keras.preprocessing.image import ImageDataGenerator\n",
    "from keras.optimizers import Adam\n",
    "\n",
    "from sklearn.metrics import classification_report,confusion_matrix"
   ]
  },
  {
   "cell_type": "code",
   "execution_count": 83,
   "id": "be43a95e",
   "metadata": {},
   "outputs": [],
   "source": [
    "datagen = ImageDataGenerator(\n",
    "        featurewise_center=False,  # set input mean to 0 over the dataset\n",
    "        samplewise_center=False,  # set each sample mean to 0\n",
    "        featurewise_std_normalization=False,  # divide inputs by std of the dataset\n",
    "        samplewise_std_normalization=False,  # divide each input by its std\n",
    "        zca_whitening=False,  # apply ZCA whitening\n",
    "        rotation_range = 30,  # randomly rotate images in the range (degrees, 0 to 180)\n",
    "        zoom_range = 0.2, # Randomly zoom image \n",
    "        width_shift_range=0.1,  # randomly shift images horizontally (fraction of total width)\n",
    "        height_shift_range=0.1,  # randomly shift images vertically (fraction of total height)\n",
    "        horizontal_flip = True,  # randomly flip images\n",
    "        vertical_flip=False)  # randomly flip images\n",
    "\n",
    "\n",
    "datagen.fit(X_train)"
   ]
  },
  {
   "cell_type": "code",
   "execution_count": 87,
   "id": "19e30c5c",
   "metadata": {},
   "outputs": [
    {
     "name": "stdout",
     "output_type": "stream",
     "text": [
      "Model: \"sequential_1\"\n",
      "_________________________________________________________________\n",
      " Layer (type)                Output Shape              Param #   \n",
      "=================================================================\n",
      " conv2d_3 (Conv2D)           (None, 224, 224, 32)      320       \n",
      "                                                                 \n",
      " max_pooling2d_3 (MaxPooling  (None, 112, 112, 32)     0         \n",
      " 2D)                                                             \n",
      "                                                                 \n",
      " conv2d_4 (Conv2D)           (None, 112, 112, 32)      9248      \n",
      "                                                                 \n",
      " max_pooling2d_4 (MaxPooling  (None, 56, 56, 32)       0         \n",
      " 2D)                                                             \n",
      "                                                                 \n",
      " conv2d_5 (Conv2D)           (None, 56, 56, 64)        18496     \n",
      "                                                                 \n",
      " max_pooling2d_5 (MaxPooling  (None, 28, 28, 64)       0         \n",
      " 2D)                                                             \n",
      "                                                                 \n",
      " dropout_1 (Dropout)         (None, 28, 28, 64)        0         \n",
      "                                                                 \n",
      " flatten_1 (Flatten)         (None, 50176)             0         \n",
      "                                                                 \n",
      " dense_2 (Dense)             (None, 128)               6422656   \n",
      "                                                                 \n",
      " dense_3 (Dense)             (None, 2)                 258       \n",
      "                                                                 \n",
      "=================================================================\n",
      "Total params: 6,450,978\n",
      "Trainable params: 6,450,978\n",
      "Non-trainable params: 0\n",
      "_________________________________________________________________\n"
     ]
    }
   ],
   "source": [
    "# define model\n",
    "model = Sequential()\n",
    "model.add(Conv2D(32,3,padding=\"same\", activation=\"relu\", input_shape=(224,224,1)))\n",
    "model.add(MaxPool2D())\n",
    "\n",
    "model.add(Conv2D(32, 3, padding=\"same\", activation=\"relu\"))\n",
    "model.add(MaxPool2D())\n",
    "\n",
    "model.add(Conv2D(64, 3, padding=\"same\", activation=\"relu\"))\n",
    "model.add(MaxPool2D())\n",
    "model.add(Dropout(0.4))\n",
    "\n",
    "model.add(Flatten())\n",
    "model.add(Dense(128,activation=\"relu\"))\n",
    "model.add(Dense(2, activation=\"softmax\"))\n",
    "\n",
    "model.summary()"
   ]
  },
  {
   "cell_type": "code",
   "execution_count": 88,
   "id": "3cb51195",
   "metadata": {},
   "outputs": [],
   "source": [
    "opt = Adam(lr=0.000001)\n",
    "model.compile(optimizer = opt , loss = tf.keras.losses.SparseCategoricalCrossentropy(from_logits=True) , metrics = ['accuracy'])\n"
   ]
  },
  {
   "cell_type": "code",
   "execution_count": 89,
   "id": "fb7af4dc",
   "metadata": {},
   "outputs": [
    {
     "name": "stdout",
     "output_type": "stream",
     "text": [
      "Epoch 1/500\n"
     ]
    },
    {
     "name": "stderr",
     "output_type": "stream",
     "text": [
      "/Users/xueweichen/Downloads/anaconda3/lib/python3.9/site-packages/keras/backend.py:5585: UserWarning:\n",
      "\n",
      "\"`sparse_categorical_crossentropy` received `from_logits=True`, but the `output` argument was produced by a Softmax activation and thus does not represent logits. Was this intended?\n",
      "\n"
     ]
    },
    {
     "name": "stdout",
     "output_type": "stream",
     "text": [
      "2/2 [==============================] - 2s 387ms/step - loss: 0.6182 - accuracy: 0.7143 - val_loss: 0.5302 - val_accuracy: 0.9167\n",
      "Epoch 2/500\n",
      "2/2 [==============================] - 1s 203ms/step - loss: 0.5038 - accuracy: 0.7429 - val_loss: 0.4329 - val_accuracy: 0.9167\n",
      "Epoch 3/500\n",
      "2/2 [==============================] - 1s 194ms/step - loss: 0.4730 - accuracy: 0.7429 - val_loss: 0.3512 - val_accuracy: 1.0000\n",
      "Epoch 4/500\n",
      "2/2 [==============================] - 1s 194ms/step - loss: 0.3987 - accuracy: 0.8571 - val_loss: 0.2844 - val_accuracy: 1.0000\n",
      "Epoch 5/500\n",
      "2/2 [==============================] - 1s 181ms/step - loss: 0.2766 - accuracy: 0.9714 - val_loss: 0.2323 - val_accuracy: 1.0000\n",
      "Epoch 6/500\n",
      "2/2 [==============================] - 1s 179ms/step - loss: 0.2591 - accuracy: 1.0000 - val_loss: 0.1917 - val_accuracy: 1.0000\n",
      "Epoch 7/500\n",
      "2/2 [==============================] - 1s 182ms/step - loss: 0.2090 - accuracy: 1.0000 - val_loss: 0.1595 - val_accuracy: 1.0000\n",
      "Epoch 8/500\n",
      "2/2 [==============================] - 1s 199ms/step - loss: 0.1962 - accuracy: 1.0000 - val_loss: 0.1340 - val_accuracy: 1.0000\n",
      "Epoch 9/500\n",
      "2/2 [==============================] - 1s 184ms/step - loss: 0.1413 - accuracy: 1.0000 - val_loss: 0.1137 - val_accuracy: 1.0000\n",
      "Epoch 10/500\n",
      "2/2 [==============================] - 1s 192ms/step - loss: 0.1604 - accuracy: 1.0000 - val_loss: 0.0969 - val_accuracy: 1.0000\n",
      "Epoch 11/500\n",
      "2/2 [==============================] - 1s 178ms/step - loss: 0.1396 - accuracy: 1.0000 - val_loss: 0.0833 - val_accuracy: 1.0000\n",
      "Epoch 12/500\n",
      "2/2 [==============================] - 1s 213ms/step - loss: 0.0922 - accuracy: 1.0000 - val_loss: 0.0725 - val_accuracy: 1.0000\n",
      "Epoch 13/500\n",
      "2/2 [==============================] - 1s 196ms/step - loss: 0.0841 - accuracy: 1.0000 - val_loss: 0.0640 - val_accuracy: 1.0000\n",
      "Epoch 14/500\n",
      "2/2 [==============================] - 1s 211ms/step - loss: 0.0637 - accuracy: 1.0000 - val_loss: 0.0572 - val_accuracy: 1.0000\n",
      "Epoch 15/500\n",
      "2/2 [==============================] - 1s 207ms/step - loss: 0.0807 - accuracy: 1.0000 - val_loss: 0.0516 - val_accuracy: 1.0000\n",
      "Epoch 16/500\n",
      "2/2 [==============================] - 1s 226ms/step - loss: 0.0716 - accuracy: 1.0000 - val_loss: 0.0468 - val_accuracy: 1.0000\n",
      "Epoch 17/500\n",
      "2/2 [==============================] - 1s 225ms/step - loss: 0.0626 - accuracy: 1.0000 - val_loss: 0.0428 - val_accuracy: 1.0000\n",
      "Epoch 18/500\n",
      "2/2 [==============================] - 1s 220ms/step - loss: 0.0433 - accuracy: 1.0000 - val_loss: 0.0395 - val_accuracy: 1.0000\n",
      "Epoch 19/500\n",
      "2/2 [==============================] - 1s 233ms/step - loss: 0.0472 - accuracy: 1.0000 - val_loss: 0.0366 - val_accuracy: 1.0000\n",
      "Epoch 20/500\n",
      "2/2 [==============================] - 1s 242ms/step - loss: 0.0658 - accuracy: 1.0000 - val_loss: 0.0341 - val_accuracy: 1.0000\n",
      "Epoch 21/500\n",
      "2/2 [==============================] - 1s 213ms/step - loss: 0.0582 - accuracy: 1.0000 - val_loss: 0.0319 - val_accuracy: 1.0000\n",
      "Epoch 22/500\n",
      "2/2 [==============================] - 1s 310ms/step - loss: 0.0463 - accuracy: 1.0000 - val_loss: 0.0300 - val_accuracy: 1.0000\n",
      "Epoch 23/500\n",
      "2/2 [==============================] - 1s 262ms/step - loss: 0.0344 - accuracy: 1.0000 - val_loss: 0.0282 - val_accuracy: 1.0000\n",
      "Epoch 24/500\n",
      "2/2 [==============================] - 1s 244ms/step - loss: 0.0395 - accuracy: 1.0000 - val_loss: 0.0266 - val_accuracy: 1.0000\n",
      "Epoch 25/500\n",
      "2/2 [==============================] - 1s 229ms/step - loss: 0.0380 - accuracy: 1.0000 - val_loss: 0.0251 - val_accuracy: 1.0000\n",
      "Epoch 26/500\n",
      "2/2 [==============================] - 1s 217ms/step - loss: 0.0295 - accuracy: 1.0000 - val_loss: 0.0239 - val_accuracy: 1.0000\n",
      "Epoch 27/500\n",
      "2/2 [==============================] - 1s 240ms/step - loss: 0.0266 - accuracy: 1.0000 - val_loss: 0.0227 - val_accuracy: 1.0000\n",
      "Epoch 28/500\n",
      "2/2 [==============================] - 1s 219ms/step - loss: 0.0295 - accuracy: 1.0000 - val_loss: 0.0217 - val_accuracy: 1.0000\n",
      "Epoch 29/500\n",
      "2/2 [==============================] - 1s 235ms/step - loss: 0.0277 - accuracy: 1.0000 - val_loss: 0.0208 - val_accuracy: 1.0000\n",
      "Epoch 30/500\n",
      "2/2 [==============================] - 1s 264ms/step - loss: 0.0344 - accuracy: 1.0000 - val_loss: 0.0199 - val_accuracy: 1.0000\n",
      "Epoch 31/500\n",
      "2/2 [==============================] - 1s 237ms/step - loss: 0.0286 - accuracy: 1.0000 - val_loss: 0.0191 - val_accuracy: 1.0000\n",
      "Epoch 32/500\n",
      "2/2 [==============================] - 1s 245ms/step - loss: 0.0238 - accuracy: 1.0000 - val_loss: 0.0184 - val_accuracy: 1.0000\n",
      "Epoch 33/500\n",
      "2/2 [==============================] - 1s 280ms/step - loss: 0.0238 - accuracy: 1.0000 - val_loss: 0.0177 - val_accuracy: 1.0000\n",
      "Epoch 34/500\n",
      "2/2 [==============================] - 1s 211ms/step - loss: 0.0235 - accuracy: 1.0000 - val_loss: 0.0171 - val_accuracy: 1.0000\n",
      "Epoch 35/500\n",
      "2/2 [==============================] - 1s 318ms/step - loss: 0.0219 - accuracy: 1.0000 - val_loss: 0.0165 - val_accuracy: 1.0000\n",
      "Epoch 36/500\n",
      "2/2 [==============================] - 1s 231ms/step - loss: 0.0241 - accuracy: 1.0000 - val_loss: 0.0160 - val_accuracy: 1.0000\n",
      "Epoch 37/500\n",
      "2/2 [==============================] - 1s 234ms/step - loss: 0.0193 - accuracy: 1.0000 - val_loss: 0.0155 - val_accuracy: 1.0000\n",
      "Epoch 38/500\n",
      "2/2 [==============================] - 1s 258ms/step - loss: 0.0179 - accuracy: 1.0000 - val_loss: 0.0150 - val_accuracy: 1.0000\n",
      "Epoch 39/500\n",
      "2/2 [==============================] - 1s 260ms/step - loss: 0.0168 - accuracy: 1.0000 - val_loss: 0.0145 - val_accuracy: 1.0000\n",
      "Epoch 40/500\n",
      "2/2 [==============================] - 1s 325ms/step - loss: 0.0191 - accuracy: 1.0000 - val_loss: 0.0141 - val_accuracy: 1.0000\n",
      "Epoch 41/500\n",
      "2/2 [==============================] - 1s 285ms/step - loss: 0.0185 - accuracy: 1.0000 - val_loss: 0.0138 - val_accuracy: 1.0000\n",
      "Epoch 42/500\n",
      "2/2 [==============================] - 1s 213ms/step - loss: 0.0188 - accuracy: 1.0000 - val_loss: 0.0134 - val_accuracy: 1.0000\n",
      "Epoch 43/500\n",
      "2/2 [==============================] - 1s 217ms/step - loss: 0.0188 - accuracy: 1.0000 - val_loss: 0.0131 - val_accuracy: 1.0000\n",
      "Epoch 44/500\n",
      "2/2 [==============================] - 1s 207ms/step - loss: 0.0161 - accuracy: 1.0000 - val_loss: 0.0128 - val_accuracy: 1.0000\n",
      "Epoch 45/500\n",
      "2/2 [==============================] - 1s 226ms/step - loss: 0.0163 - accuracy: 1.0000 - val_loss: 0.0125 - val_accuracy: 1.0000\n",
      "Epoch 46/500\n",
      "2/2 [==============================] - 1s 196ms/step - loss: 0.0164 - accuracy: 1.0000 - val_loss: 0.0122 - val_accuracy: 1.0000\n",
      "Epoch 47/500\n",
      "2/2 [==============================] - 1s 204ms/step - loss: 0.0173 - accuracy: 1.0000 - val_loss: 0.0119 - val_accuracy: 1.0000\n",
      "Epoch 48/500\n",
      "2/2 [==============================] - 1s 198ms/step - loss: 0.0136 - accuracy: 1.0000 - val_loss: 0.0116 - val_accuracy: 1.0000\n",
      "Epoch 49/500\n",
      "2/2 [==============================] - 1s 207ms/step - loss: 0.0133 - accuracy: 1.0000 - val_loss: 0.0114 - val_accuracy: 1.0000\n",
      "Epoch 50/500\n",
      "2/2 [==============================] - 1s 207ms/step - loss: 0.0168 - accuracy: 1.0000 - val_loss: 0.0112 - val_accuracy: 1.0000\n",
      "Epoch 51/500\n",
      "2/2 [==============================] - 1s 188ms/step - loss: 0.0150 - accuracy: 1.0000 - val_loss: 0.0109 - val_accuracy: 1.0000\n",
      "Epoch 52/500\n",
      "2/2 [==============================] - 1s 241ms/step - loss: 0.0115 - accuracy: 1.0000 - val_loss: 0.0107 - val_accuracy: 1.0000\n",
      "Epoch 53/500\n",
      "2/2 [==============================] - 1s 183ms/step - loss: 0.0106 - accuracy: 1.0000 - val_loss: 0.0105 - val_accuracy: 1.0000\n",
      "Epoch 54/500\n",
      "2/2 [==============================] - 1s 200ms/step - loss: 0.0130 - accuracy: 1.0000 - val_loss: 0.0102 - val_accuracy: 1.0000\n",
      "Epoch 55/500\n",
      "2/2 [==============================] - 1s 197ms/step - loss: 0.0114 - accuracy: 1.0000 - val_loss: 0.0100 - val_accuracy: 1.0000\n",
      "Epoch 56/500\n",
      "2/2 [==============================] - 1s 181ms/step - loss: 0.0115 - accuracy: 1.0000 - val_loss: 0.0098 - val_accuracy: 1.0000\n",
      "Epoch 57/500\n",
      "2/2 [==============================] - 1s 193ms/step - loss: 0.0129 - accuracy: 1.0000 - val_loss: 0.0096 - val_accuracy: 1.0000\n",
      "Epoch 58/500\n",
      "2/2 [==============================] - 1s 217ms/step - loss: 0.0143 - accuracy: 1.0000 - val_loss: 0.0094 - val_accuracy: 1.0000\n"
     ]
    },
    {
     "name": "stdout",
     "output_type": "stream",
     "text": [
      "Epoch 59/500\n",
      "2/2 [==============================] - 1s 316ms/step - loss: 0.0090 - accuracy: 1.0000 - val_loss: 0.0092 - val_accuracy: 1.0000\n",
      "Epoch 60/500\n",
      "2/2 [==============================] - 1s 248ms/step - loss: 0.0124 - accuracy: 1.0000 - val_loss: 0.0090 - val_accuracy: 1.0000\n",
      "Epoch 61/500\n",
      "2/2 [==============================] - 1s 239ms/step - loss: 0.0103 - accuracy: 1.0000 - val_loss: 0.0089 - val_accuracy: 1.0000\n",
      "Epoch 62/500\n",
      "2/2 [==============================] - 1s 187ms/step - loss: 0.0095 - accuracy: 1.0000 - val_loss: 0.0087 - val_accuracy: 1.0000\n",
      "Epoch 63/500\n",
      "2/2 [==============================] - 1s 192ms/step - loss: 0.0111 - accuracy: 1.0000 - val_loss: 0.0085 - val_accuracy: 1.0000\n",
      "Epoch 64/500\n",
      "2/2 [==============================] - 1s 190ms/step - loss: 0.0121 - accuracy: 1.0000 - val_loss: 0.0084 - val_accuracy: 1.0000\n",
      "Epoch 65/500\n",
      "2/2 [==============================] - 1s 181ms/step - loss: 0.0104 - accuracy: 1.0000 - val_loss: 0.0082 - val_accuracy: 1.0000\n",
      "Epoch 66/500\n",
      "2/2 [==============================] - 1s 199ms/step - loss: 0.0091 - accuracy: 1.0000 - val_loss: 0.0080 - val_accuracy: 1.0000\n",
      "Epoch 67/500\n",
      "2/2 [==============================] - 1s 207ms/step - loss: 0.0145 - accuracy: 1.0000 - val_loss: 0.0079 - val_accuracy: 1.0000\n",
      "Epoch 68/500\n",
      "2/2 [==============================] - 1s 209ms/step - loss: 0.0120 - accuracy: 1.0000 - val_loss: 0.0077 - val_accuracy: 1.0000\n",
      "Epoch 69/500\n",
      "2/2 [==============================] - 1s 212ms/step - loss: 0.0119 - accuracy: 1.0000 - val_loss: 0.0075 - val_accuracy: 1.0000\n",
      "Epoch 70/500\n",
      "2/2 [==============================] - 1s 201ms/step - loss: 0.0146 - accuracy: 1.0000 - val_loss: 0.0074 - val_accuracy: 1.0000\n",
      "Epoch 71/500\n",
      "2/2 [==============================] - 1s 210ms/step - loss: 0.0116 - accuracy: 1.0000 - val_loss: 0.0072 - val_accuracy: 1.0000\n",
      "Epoch 72/500\n",
      "2/2 [==============================] - 1s 221ms/step - loss: 0.0108 - accuracy: 1.0000 - val_loss: 0.0071 - val_accuracy: 1.0000\n",
      "Epoch 73/500\n",
      "2/2 [==============================] - 1s 193ms/step - loss: 0.0112 - accuracy: 1.0000 - val_loss: 0.0070 - val_accuracy: 1.0000\n",
      "Epoch 74/500\n",
      "2/2 [==============================] - 1s 199ms/step - loss: 0.0084 - accuracy: 1.0000 - val_loss: 0.0068 - val_accuracy: 1.0000\n",
      "Epoch 75/500\n",
      "2/2 [==============================] - 1s 199ms/step - loss: 0.0101 - accuracy: 1.0000 - val_loss: 0.0067 - val_accuracy: 1.0000\n",
      "Epoch 76/500\n",
      "2/2 [==============================] - 1s 197ms/step - loss: 0.0078 - accuracy: 1.0000 - val_loss: 0.0065 - val_accuracy: 1.0000\n",
      "Epoch 77/500\n",
      "2/2 [==============================] - 1s 210ms/step - loss: 0.0110 - accuracy: 1.0000 - val_loss: 0.0064 - val_accuracy: 1.0000\n",
      "Epoch 78/500\n",
      "2/2 [==============================] - 1s 208ms/step - loss: 0.0078 - accuracy: 1.0000 - val_loss: 0.0062 - val_accuracy: 1.0000\n",
      "Epoch 79/500\n",
      "2/2 [==============================] - 1s 216ms/step - loss: 0.0106 - accuracy: 1.0000 - val_loss: 0.0061 - val_accuracy: 1.0000\n",
      "Epoch 80/500\n",
      "2/2 [==============================] - 1s 222ms/step - loss: 0.0072 - accuracy: 1.0000 - val_loss: 0.0060 - val_accuracy: 1.0000\n",
      "Epoch 81/500\n",
      "2/2 [==============================] - 1s 203ms/step - loss: 0.0079 - accuracy: 1.0000 - val_loss: 0.0058 - val_accuracy: 1.0000\n",
      "Epoch 82/500\n",
      "2/2 [==============================] - 1s 214ms/step - loss: 0.0107 - accuracy: 1.0000 - val_loss: 0.0057 - val_accuracy: 1.0000\n",
      "Epoch 83/500\n",
      "2/2 [==============================] - 1s 198ms/step - loss: 0.0068 - accuracy: 1.0000 - val_loss: 0.0056 - val_accuracy: 1.0000\n",
      "Epoch 84/500\n",
      "2/2 [==============================] - 1s 205ms/step - loss: 0.0081 - accuracy: 1.0000 - val_loss: 0.0055 - val_accuracy: 1.0000\n",
      "Epoch 85/500\n",
      "2/2 [==============================] - 1s 239ms/step - loss: 0.0083 - accuracy: 1.0000 - val_loss: 0.0054 - val_accuracy: 1.0000\n",
      "Epoch 86/500\n",
      "2/2 [==============================] - 1s 214ms/step - loss: 0.0080 - accuracy: 1.0000 - val_loss: 0.0053 - val_accuracy: 1.0000\n",
      "Epoch 87/500\n",
      "2/2 [==============================] - 1s 248ms/step - loss: 0.0074 - accuracy: 1.0000 - val_loss: 0.0052 - val_accuracy: 1.0000\n",
      "Epoch 88/500\n",
      "2/2 [==============================] - 1s 202ms/step - loss: 0.0071 - accuracy: 1.0000 - val_loss: 0.0051 - val_accuracy: 1.0000\n",
      "Epoch 89/500\n",
      "2/2 [==============================] - 1s 211ms/step - loss: 0.0070 - accuracy: 1.0000 - val_loss: 0.0050 - val_accuracy: 1.0000\n",
      "Epoch 90/500\n",
      "2/2 [==============================] - 1s 201ms/step - loss: 0.0079 - accuracy: 1.0000 - val_loss: 0.0049 - val_accuracy: 1.0000\n",
      "Epoch 91/500\n",
      "2/2 [==============================] - 1s 268ms/step - loss: 0.0076 - accuracy: 1.0000 - val_loss: 0.0048 - val_accuracy: 1.0000\n",
      "Epoch 92/500\n",
      "2/2 [==============================] - 1s 211ms/step - loss: 0.0075 - accuracy: 1.0000 - val_loss: 0.0047 - val_accuracy: 1.0000\n",
      "Epoch 93/500\n",
      "2/2 [==============================] - 1s 203ms/step - loss: 0.0071 - accuracy: 1.0000 - val_loss: 0.0046 - val_accuracy: 1.0000\n",
      "Epoch 94/500\n",
      "2/2 [==============================] - 1s 215ms/step - loss: 0.0066 - accuracy: 1.0000 - val_loss: 0.0046 - val_accuracy: 1.0000\n",
      "Epoch 95/500\n",
      "2/2 [==============================] - 1s 219ms/step - loss: 0.0063 - accuracy: 1.0000 - val_loss: 0.0045 - val_accuracy: 1.0000\n",
      "Epoch 96/500\n",
      "2/2 [==============================] - 1s 236ms/step - loss: 0.0056 - accuracy: 1.0000 - val_loss: 0.0044 - val_accuracy: 1.0000\n",
      "Epoch 97/500\n",
      "2/2 [==============================] - 1s 232ms/step - loss: 0.0056 - accuracy: 1.0000 - val_loss: 0.0043 - val_accuracy: 1.0000\n",
      "Epoch 98/500\n",
      "2/2 [==============================] - 1s 221ms/step - loss: 0.0053 - accuracy: 1.0000 - val_loss: 0.0043 - val_accuracy: 1.0000\n",
      "Epoch 99/500\n",
      "2/2 [==============================] - 1s 208ms/step - loss: 0.0088 - accuracy: 1.0000 - val_loss: 0.0042 - val_accuracy: 1.0000\n",
      "Epoch 100/500\n",
      "2/2 [==============================] - 1s 207ms/step - loss: 0.0052 - accuracy: 1.0000 - val_loss: 0.0041 - val_accuracy: 1.0000\n",
      "Epoch 101/500\n",
      "2/2 [==============================] - 1s 222ms/step - loss: 0.0058 - accuracy: 1.0000 - val_loss: 0.0041 - val_accuracy: 1.0000\n",
      "Epoch 102/500\n",
      "2/2 [==============================] - 1s 263ms/step - loss: 0.0052 - accuracy: 1.0000 - val_loss: 0.0040 - val_accuracy: 1.0000\n",
      "Epoch 103/500\n",
      "2/2 [==============================] - 1s 243ms/step - loss: 0.0051 - accuracy: 1.0000 - val_loss: 0.0039 - val_accuracy: 1.0000\n",
      "Epoch 104/500\n",
      "2/2 [==============================] - 1s 197ms/step - loss: 0.0054 - accuracy: 1.0000 - val_loss: 0.0039 - val_accuracy: 1.0000\n",
      "Epoch 105/500\n",
      "2/2 [==============================] - 1s 209ms/step - loss: 0.0079 - accuracy: 1.0000 - val_loss: 0.0038 - val_accuracy: 1.0000\n",
      "Epoch 106/500\n",
      "2/2 [==============================] - 1s 201ms/step - loss: 0.0047 - accuracy: 1.0000 - val_loss: 0.0037 - val_accuracy: 1.0000\n",
      "Epoch 107/500\n",
      "2/2 [==============================] - 1s 207ms/step - loss: 0.0060 - accuracy: 1.0000 - val_loss: 0.0037 - val_accuracy: 1.0000\n",
      "Epoch 108/500\n",
      "2/2 [==============================] - 1s 195ms/step - loss: 0.0055 - accuracy: 1.0000 - val_loss: 0.0036 - val_accuracy: 1.0000\n",
      "Epoch 109/500\n",
      "2/2 [==============================] - 1s 208ms/step - loss: 0.0074 - accuracy: 1.0000 - val_loss: 0.0036 - val_accuracy: 1.0000\n",
      "Epoch 110/500\n",
      "2/2 [==============================] - 1s 209ms/step - loss: 0.0044 - accuracy: 1.0000 - val_loss: 0.0035 - val_accuracy: 1.0000\n",
      "Epoch 111/500\n",
      "2/2 [==============================] - 1s 201ms/step - loss: 0.0051 - accuracy: 1.0000 - val_loss: 0.0035 - val_accuracy: 1.0000\n",
      "Epoch 112/500\n",
      "2/2 [==============================] - 1s 198ms/step - loss: 0.0055 - accuracy: 1.0000 - val_loss: 0.0034 - val_accuracy: 1.0000\n",
      "Epoch 113/500\n",
      "2/2 [==============================] - 1s 230ms/step - loss: 0.0042 - accuracy: 1.0000 - val_loss: 0.0034 - val_accuracy: 1.0000\n",
      "Epoch 114/500\n",
      "2/2 [==============================] - 1s 191ms/step - loss: 0.0060 - accuracy: 1.0000 - val_loss: 0.0033 - val_accuracy: 1.0000\n",
      "Epoch 115/500\n",
      "2/2 [==============================] - 1s 222ms/step - loss: 0.0046 - accuracy: 1.0000 - val_loss: 0.0033 - val_accuracy: 1.0000\n",
      "Epoch 116/500\n"
     ]
    },
    {
     "name": "stdout",
     "output_type": "stream",
     "text": [
      "2/2 [==============================] - 1s 223ms/step - loss: 0.0048 - accuracy: 1.0000 - val_loss: 0.0033 - val_accuracy: 1.0000\n",
      "Epoch 117/500\n",
      "2/2 [==============================] - 1s 211ms/step - loss: 0.0045 - accuracy: 1.0000 - val_loss: 0.0032 - val_accuracy: 1.0000\n",
      "Epoch 118/500\n",
      "2/2 [==============================] - 1s 235ms/step - loss: 0.0041 - accuracy: 1.0000 - val_loss: 0.0032 - val_accuracy: 1.0000\n",
      "Epoch 119/500\n",
      "2/2 [==============================] - 1s 230ms/step - loss: 0.0042 - accuracy: 1.0000 - val_loss: 0.0031 - val_accuracy: 1.0000\n",
      "Epoch 120/500\n",
      "2/2 [==============================] - 1s 219ms/step - loss: 0.0039 - accuracy: 1.0000 - val_loss: 0.0031 - val_accuracy: 1.0000\n",
      "Epoch 121/500\n",
      "2/2 [==============================] - 1s 213ms/step - loss: 0.0057 - accuracy: 1.0000 - val_loss: 0.0030 - val_accuracy: 1.0000\n",
      "Epoch 122/500\n",
      "2/2 [==============================] - 1s 203ms/step - loss: 0.0048 - accuracy: 1.0000 - val_loss: 0.0030 - val_accuracy: 1.0000\n",
      "Epoch 123/500\n",
      "2/2 [==============================] - 1s 211ms/step - loss: 0.0037 - accuracy: 1.0000 - val_loss: 0.0030 - val_accuracy: 1.0000\n",
      "Epoch 124/500\n",
      "2/2 [==============================] - 1s 254ms/step - loss: 0.0053 - accuracy: 1.0000 - val_loss: 0.0029 - val_accuracy: 1.0000\n",
      "Epoch 125/500\n",
      "2/2 [==============================] - 1s 227ms/step - loss: 0.0050 - accuracy: 1.0000 - val_loss: 0.0029 - val_accuracy: 1.0000\n",
      "Epoch 126/500\n",
      "2/2 [==============================] - 1s 218ms/step - loss: 0.0041 - accuracy: 1.0000 - val_loss: 0.0029 - val_accuracy: 1.0000\n",
      "Epoch 127/500\n",
      "2/2 [==============================] - 1s 207ms/step - loss: 0.0057 - accuracy: 1.0000 - val_loss: 0.0028 - val_accuracy: 1.0000\n",
      "Epoch 128/500\n",
      "2/2 [==============================] - 1s 205ms/step - loss: 0.0041 - accuracy: 1.0000 - val_loss: 0.0028 - val_accuracy: 1.0000\n",
      "Epoch 129/500\n",
      "2/2 [==============================] - 1s 247ms/step - loss: 0.0043 - accuracy: 1.0000 - val_loss: 0.0028 - val_accuracy: 1.0000\n",
      "Epoch 130/500\n",
      "2/2 [==============================] - 1s 201ms/step - loss: 0.0029 - accuracy: 1.0000 - val_loss: 0.0027 - val_accuracy: 1.0000\n",
      "Epoch 131/500\n",
      "2/2 [==============================] - 1s 220ms/step - loss: 0.0043 - accuracy: 1.0000 - val_loss: 0.0027 - val_accuracy: 1.0000\n",
      "Epoch 132/500\n",
      "2/2 [==============================] - 1s 197ms/step - loss: 0.0033 - accuracy: 1.0000 - val_loss: 0.0026 - val_accuracy: 1.0000\n",
      "Epoch 133/500\n",
      "2/2 [==============================] - 1s 203ms/step - loss: 0.0039 - accuracy: 1.0000 - val_loss: 0.0026 - val_accuracy: 1.0000\n",
      "Epoch 134/500\n",
      "2/2 [==============================] - 1s 211ms/step - loss: 0.0038 - accuracy: 1.0000 - val_loss: 0.0026 - val_accuracy: 1.0000\n",
      "Epoch 135/500\n",
      "2/2 [==============================] - 1s 192ms/step - loss: 0.0042 - accuracy: 1.0000 - val_loss: 0.0025 - val_accuracy: 1.0000\n",
      "Epoch 136/500\n",
      "2/2 [==============================] - 1s 199ms/step - loss: 0.0037 - accuracy: 1.0000 - val_loss: 0.0025 - val_accuracy: 1.0000\n",
      "Epoch 137/500\n",
      "2/2 [==============================] - 1s 257ms/step - loss: 0.0036 - accuracy: 1.0000 - val_loss: 0.0025 - val_accuracy: 1.0000\n",
      "Epoch 138/500\n",
      "2/2 [==============================] - 1s 235ms/step - loss: 0.0038 - accuracy: 1.0000 - val_loss: 0.0024 - val_accuracy: 1.0000\n",
      "Epoch 139/500\n",
      "2/2 [==============================] - 1s 212ms/step - loss: 0.0045 - accuracy: 1.0000 - val_loss: 0.0024 - val_accuracy: 1.0000\n",
      "Epoch 140/500\n",
      "2/2 [==============================] - 1s 222ms/step - loss: 0.0034 - accuracy: 1.0000 - val_loss: 0.0024 - val_accuracy: 1.0000\n",
      "Epoch 141/500\n",
      "2/2 [==============================] - 1s 216ms/step - loss: 0.0031 - accuracy: 1.0000 - val_loss: 0.0023 - val_accuracy: 1.0000\n",
      "Epoch 142/500\n",
      "2/2 [==============================] - 1s 199ms/step - loss: 0.0037 - accuracy: 1.0000 - val_loss: 0.0023 - val_accuracy: 1.0000\n",
      "Epoch 143/500\n",
      "2/2 [==============================] - 1s 197ms/step - loss: 0.0031 - accuracy: 1.0000 - val_loss: 0.0023 - val_accuracy: 1.0000\n",
      "Epoch 144/500\n",
      "2/2 [==============================] - 1s 214ms/step - loss: 0.0034 - accuracy: 1.0000 - val_loss: 0.0023 - val_accuracy: 1.0000\n",
      "Epoch 145/500\n",
      "2/2 [==============================] - 1s 205ms/step - loss: 0.0040 - accuracy: 1.0000 - val_loss: 0.0022 - val_accuracy: 1.0000\n",
      "Epoch 146/500\n",
      "2/2 [==============================] - 1s 214ms/step - loss: 0.0038 - accuracy: 1.0000 - val_loss: 0.0022 - val_accuracy: 1.0000\n",
      "Epoch 147/500\n",
      "2/2 [==============================] - 1s 204ms/step - loss: 0.0035 - accuracy: 1.0000 - val_loss: 0.0022 - val_accuracy: 1.0000\n",
      "Epoch 148/500\n",
      "2/2 [==============================] - 1s 205ms/step - loss: 0.0028 - accuracy: 1.0000 - val_loss: 0.0021 - val_accuracy: 1.0000\n",
      "Epoch 149/500\n",
      "2/2 [==============================] - 1s 205ms/step - loss: 0.0029 - accuracy: 1.0000 - val_loss: 0.0021 - val_accuracy: 1.0000\n",
      "Epoch 150/500\n",
      "2/2 [==============================] - 1s 221ms/step - loss: 0.0040 - accuracy: 1.0000 - val_loss: 0.0021 - val_accuracy: 1.0000\n",
      "Epoch 151/500\n",
      "2/2 [==============================] - 1s 208ms/step - loss: 0.0028 - accuracy: 1.0000 - val_loss: 0.0020 - val_accuracy: 1.0000\n",
      "Epoch 152/500\n",
      "2/2 [==============================] - 1s 216ms/step - loss: 0.0032 - accuracy: 1.0000 - val_loss: 0.0020 - val_accuracy: 1.0000\n",
      "Epoch 153/500\n",
      "2/2 [==============================] - 1s 215ms/step - loss: 0.0030 - accuracy: 1.0000 - val_loss: 0.0020 - val_accuracy: 1.0000\n",
      "Epoch 154/500\n",
      "2/2 [==============================] - 1s 195ms/step - loss: 0.0031 - accuracy: 1.0000 - val_loss: 0.0019 - val_accuracy: 1.0000\n",
      "Epoch 155/500\n",
      "2/2 [==============================] - 1s 192ms/step - loss: 0.0031 - accuracy: 1.0000 - val_loss: 0.0019 - val_accuracy: 1.0000\n",
      "Epoch 156/500\n",
      "2/2 [==============================] - 1s 194ms/step - loss: 0.0019 - accuracy: 1.0000 - val_loss: 0.0019 - val_accuracy: 1.0000\n",
      "Epoch 157/500\n",
      "2/2 [==============================] - 1s 192ms/step - loss: 0.0023 - accuracy: 1.0000 - val_loss: 0.0019 - val_accuracy: 1.0000\n",
      "Epoch 158/500\n",
      "2/2 [==============================] - 1s 193ms/step - loss: 0.0028 - accuracy: 1.0000 - val_loss: 0.0018 - val_accuracy: 1.0000\n",
      "Epoch 159/500\n",
      "2/2 [==============================] - 1s 185ms/step - loss: 0.0026 - accuracy: 1.0000 - val_loss: 0.0018 - val_accuracy: 1.0000\n",
      "Epoch 160/500\n",
      "2/2 [==============================] - 1s 195ms/step - loss: 0.0020 - accuracy: 1.0000 - val_loss: 0.0018 - val_accuracy: 1.0000\n",
      "Epoch 161/500\n",
      "2/2 [==============================] - 1s 202ms/step - loss: 0.0017 - accuracy: 1.0000 - val_loss: 0.0018 - val_accuracy: 1.0000\n",
      "Epoch 162/500\n",
      "2/2 [==============================] - 1s 191ms/step - loss: 0.0026 - accuracy: 1.0000 - val_loss: 0.0017 - val_accuracy: 1.0000\n",
      "Epoch 163/500\n",
      "2/2 [==============================] - 1s 207ms/step - loss: 0.0026 - accuracy: 1.0000 - val_loss: 0.0017 - val_accuracy: 1.0000\n",
      "Epoch 164/500\n",
      "2/2 [==============================] - 1s 218ms/step - loss: 0.0022 - accuracy: 1.0000 - val_loss: 0.0017 - val_accuracy: 1.0000\n",
      "Epoch 165/500\n",
      "2/2 [==============================] - 1s 190ms/step - loss: 0.0023 - accuracy: 1.0000 - val_loss: 0.0017 - val_accuracy: 1.0000\n",
      "Epoch 166/500\n",
      "2/2 [==============================] - 1s 190ms/step - loss: 0.0024 - accuracy: 1.0000 - val_loss: 0.0017 - val_accuracy: 1.0000\n",
      "Epoch 167/500\n",
      "2/2 [==============================] - 1s 191ms/step - loss: 0.0027 - accuracy: 1.0000 - val_loss: 0.0016 - val_accuracy: 1.0000\n",
      "Epoch 168/500\n",
      "2/2 [==============================] - 1s 200ms/step - loss: 0.0022 - accuracy: 1.0000 - val_loss: 0.0016 - val_accuracy: 1.0000\n",
      "Epoch 169/500\n",
      "2/2 [==============================] - 1s 190ms/step - loss: 0.0023 - accuracy: 1.0000 - val_loss: 0.0016 - val_accuracy: 1.0000\n",
      "Epoch 170/500\n",
      "2/2 [==============================] - 1s 193ms/step - loss: 0.0033 - accuracy: 1.0000 - val_loss: 0.0016 - val_accuracy: 1.0000\n",
      "Epoch 171/500\n",
      "2/2 [==============================] - 1s 193ms/step - loss: 0.0021 - accuracy: 1.0000 - val_loss: 0.0016 - val_accuracy: 1.0000\n",
      "Epoch 172/500\n",
      "2/2 [==============================] - 1s 193ms/step - loss: 0.0021 - accuracy: 1.0000 - val_loss: 0.0015 - val_accuracy: 1.0000\n",
      "Epoch 173/500\n"
     ]
    },
    {
     "name": "stdout",
     "output_type": "stream",
     "text": [
      "2/2 [==============================] - 1s 198ms/step - loss: 0.0022 - accuracy: 1.0000 - val_loss: 0.0015 - val_accuracy: 1.0000\n",
      "Epoch 174/500\n",
      "2/2 [==============================] - 1s 192ms/step - loss: 0.0032 - accuracy: 1.0000 - val_loss: 0.0015 - val_accuracy: 1.0000\n",
      "Epoch 175/500\n",
      "2/2 [==============================] - 1s 186ms/step - loss: 0.0024 - accuracy: 1.0000 - val_loss: 0.0015 - val_accuracy: 1.0000\n",
      "Epoch 176/500\n",
      "2/2 [==============================] - 1s 190ms/step - loss: 0.0026 - accuracy: 1.0000 - val_loss: 0.0015 - val_accuracy: 1.0000\n",
      "Epoch 177/500\n",
      "2/2 [==============================] - 1s 187ms/step - loss: 0.0019 - accuracy: 1.0000 - val_loss: 0.0015 - val_accuracy: 1.0000\n",
      "Epoch 178/500\n",
      "2/2 [==============================] - 1s 182ms/step - loss: 0.0025 - accuracy: 1.0000 - val_loss: 0.0015 - val_accuracy: 1.0000\n",
      "Epoch 179/500\n",
      "2/2 [==============================] - 1s 195ms/step - loss: 0.0028 - accuracy: 1.0000 - val_loss: 0.0014 - val_accuracy: 1.0000\n",
      "Epoch 180/500\n",
      "2/2 [==============================] - 1s 193ms/step - loss: 0.0023 - accuracy: 1.0000 - val_loss: 0.0014 - val_accuracy: 1.0000\n",
      "Epoch 181/500\n",
      "2/2 [==============================] - 1s 186ms/step - loss: 0.0018 - accuracy: 1.0000 - val_loss: 0.0014 - val_accuracy: 1.0000\n",
      "Epoch 182/500\n",
      "2/2 [==============================] - 1s 190ms/step - loss: 0.0029 - accuracy: 1.0000 - val_loss: 0.0014 - val_accuracy: 1.0000\n",
      "Epoch 183/500\n",
      "2/2 [==============================] - 1s 187ms/step - loss: 0.0019 - accuracy: 1.0000 - val_loss: 0.0014 - val_accuracy: 1.0000\n",
      "Epoch 184/500\n",
      "2/2 [==============================] - 1s 182ms/step - loss: 0.0030 - accuracy: 1.0000 - val_loss: 0.0014 - val_accuracy: 1.0000\n",
      "Epoch 185/500\n",
      "2/2 [==============================] - 1s 192ms/step - loss: 0.0018 - accuracy: 1.0000 - val_loss: 0.0014 - val_accuracy: 1.0000\n",
      "Epoch 186/500\n",
      "2/2 [==============================] - 1s 188ms/step - loss: 0.0016 - accuracy: 1.0000 - val_loss: 0.0013 - val_accuracy: 1.0000\n",
      "Epoch 187/500\n",
      "2/2 [==============================] - 1s 185ms/step - loss: 0.0020 - accuracy: 1.0000 - val_loss: 0.0013 - val_accuracy: 1.0000\n",
      "Epoch 188/500\n",
      "2/2 [==============================] - 1s 191ms/step - loss: 0.0021 - accuracy: 1.0000 - val_loss: 0.0013 - val_accuracy: 1.0000\n",
      "Epoch 189/500\n",
      "2/2 [==============================] - 1s 183ms/step - loss: 0.0021 - accuracy: 1.0000 - val_loss: 0.0013 - val_accuracy: 1.0000\n",
      "Epoch 190/500\n",
      "2/2 [==============================] - 1s 184ms/step - loss: 0.0021 - accuracy: 1.0000 - val_loss: 0.0013 - val_accuracy: 1.0000\n",
      "Epoch 191/500\n",
      "2/2 [==============================] - 1s 199ms/step - loss: 0.0013 - accuracy: 1.0000 - val_loss: 0.0013 - val_accuracy: 1.0000\n",
      "Epoch 192/500\n",
      "2/2 [==============================] - 1s 192ms/step - loss: 0.0017 - accuracy: 1.0000 - val_loss: 0.0013 - val_accuracy: 1.0000\n",
      "Epoch 193/500\n",
      "2/2 [==============================] - 1s 184ms/step - loss: 0.0021 - accuracy: 1.0000 - val_loss: 0.0012 - val_accuracy: 1.0000\n",
      "Epoch 194/500\n",
      "2/2 [==============================] - 1s 187ms/step - loss: 0.0019 - accuracy: 1.0000 - val_loss: 0.0012 - val_accuracy: 1.0000\n",
      "Epoch 195/500\n",
      "2/2 [==============================] - 1s 193ms/step - loss: 0.0017 - accuracy: 1.0000 - val_loss: 0.0012 - val_accuracy: 1.0000\n",
      "Epoch 196/500\n",
      "2/2 [==============================] - 1s 186ms/step - loss: 0.0022 - accuracy: 1.0000 - val_loss: 0.0012 - val_accuracy: 1.0000\n",
      "Epoch 197/500\n",
      "2/2 [==============================] - 1s 184ms/step - loss: 0.0017 - accuracy: 1.0000 - val_loss: 0.0012 - val_accuracy: 1.0000\n",
      "Epoch 198/500\n",
      "2/2 [==============================] - 1s 180ms/step - loss: 0.0019 - accuracy: 1.0000 - val_loss: 0.0012 - val_accuracy: 1.0000\n",
      "Epoch 199/500\n",
      "2/2 [==============================] - 1s 191ms/step - loss: 0.0022 - accuracy: 1.0000 - val_loss: 0.0012 - val_accuracy: 1.0000\n",
      "Epoch 200/500\n",
      "2/2 [==============================] - 1s 188ms/step - loss: 0.0018 - accuracy: 1.0000 - val_loss: 0.0011 - val_accuracy: 1.0000\n",
      "Epoch 201/500\n",
      "2/2 [==============================] - 1s 194ms/step - loss: 0.0019 - accuracy: 1.0000 - val_loss: 0.0011 - val_accuracy: 1.0000\n",
      "Epoch 202/500\n",
      "2/2 [==============================] - 1s 181ms/step - loss: 0.0022 - accuracy: 1.0000 - val_loss: 0.0011 - val_accuracy: 1.0000\n",
      "Epoch 203/500\n",
      "2/2 [==============================] - 1s 187ms/step - loss: 0.0015 - accuracy: 1.0000 - val_loss: 0.0011 - val_accuracy: 1.0000\n",
      "Epoch 204/500\n",
      "2/2 [==============================] - 1s 201ms/step - loss: 0.0015 - accuracy: 1.0000 - val_loss: 0.0011 - val_accuracy: 1.0000\n",
      "Epoch 205/500\n",
      "2/2 [==============================] - 1s 198ms/step - loss: 0.0019 - accuracy: 1.0000 - val_loss: 0.0011 - val_accuracy: 1.0000\n",
      "Epoch 206/500\n",
      "2/2 [==============================] - 1s 206ms/step - loss: 0.0018 - accuracy: 1.0000 - val_loss: 0.0011 - val_accuracy: 1.0000\n",
      "Epoch 207/500\n",
      "2/2 [==============================] - 1s 206ms/step - loss: 0.0016 - accuracy: 1.0000 - val_loss: 0.0011 - val_accuracy: 1.0000\n",
      "Epoch 208/500\n",
      "2/2 [==============================] - 1s 184ms/step - loss: 0.0016 - accuracy: 1.0000 - val_loss: 0.0010 - val_accuracy: 1.0000\n",
      "Epoch 209/500\n",
      "2/2 [==============================] - 1s 186ms/step - loss: 0.0018 - accuracy: 1.0000 - val_loss: 0.0010 - val_accuracy: 1.0000\n",
      "Epoch 210/500\n",
      "2/2 [==============================] - 1s 195ms/step - loss: 0.0014 - accuracy: 1.0000 - val_loss: 0.0010 - val_accuracy: 1.0000\n",
      "Epoch 211/500\n",
      "2/2 [==============================] - 1s 184ms/step - loss: 0.0018 - accuracy: 1.0000 - val_loss: 0.0010 - val_accuracy: 1.0000\n",
      "Epoch 212/500\n",
      "2/2 [==============================] - 1s 196ms/step - loss: 0.0015 - accuracy: 1.0000 - val_loss: 0.0010 - val_accuracy: 1.0000\n",
      "Epoch 213/500\n",
      "2/2 [==============================] - 1s 191ms/step - loss: 0.0017 - accuracy: 1.0000 - val_loss: 9.9247e-04 - val_accuracy: 1.0000\n",
      "Epoch 214/500\n",
      "2/2 [==============================] - 1s 194ms/step - loss: 0.0014 - accuracy: 1.0000 - val_loss: 9.8127e-04 - val_accuracy: 1.0000\n",
      "Epoch 215/500\n",
      "2/2 [==============================] - 1s 190ms/step - loss: 0.0016 - accuracy: 1.0000 - val_loss: 9.6978e-04 - val_accuracy: 1.0000\n",
      "Epoch 216/500\n",
      "2/2 [==============================] - 1s 192ms/step - loss: 0.0016 - accuracy: 1.0000 - val_loss: 9.5841e-04 - val_accuracy: 1.0000\n",
      "Epoch 217/500\n",
      "2/2 [==============================] - 1s 198ms/step - loss: 0.0015 - accuracy: 1.0000 - val_loss: 9.4729e-04 - val_accuracy: 1.0000\n",
      "Epoch 218/500\n",
      "2/2 [==============================] - 1s 191ms/step - loss: 0.0011 - accuracy: 1.0000 - val_loss: 9.3724e-04 - val_accuracy: 1.0000\n",
      "Epoch 219/500\n",
      "2/2 [==============================] - 1s 192ms/step - loss: 0.0017 - accuracy: 1.0000 - val_loss: 9.2732e-04 - val_accuracy: 1.0000\n",
      "Epoch 220/500\n",
      "2/2 [==============================] - 1s 192ms/step - loss: 0.0022 - accuracy: 1.0000 - val_loss: 9.1748e-04 - val_accuracy: 1.0000\n",
      "Epoch 221/500\n",
      "2/2 [==============================] - 1s 190ms/step - loss: 0.0017 - accuracy: 1.0000 - val_loss: 9.0824e-04 - val_accuracy: 1.0000\n",
      "Epoch 222/500\n",
      "2/2 [==============================] - 1s 191ms/step - loss: 0.0015 - accuracy: 1.0000 - val_loss: 8.9945e-04 - val_accuracy: 1.0000\n",
      "Epoch 223/500\n",
      "2/2 [==============================] - 1s 179ms/step - loss: 0.0013 - accuracy: 1.0000 - val_loss: 8.9111e-04 - val_accuracy: 1.0000\n",
      "Epoch 224/500\n",
      "2/2 [==============================] - 1s 192ms/step - loss: 0.0015 - accuracy: 1.0000 - val_loss: 8.8255e-04 - val_accuracy: 1.0000\n",
      "Epoch 225/500\n",
      "2/2 [==============================] - 1s 202ms/step - loss: 0.0011 - accuracy: 1.0000 - val_loss: 8.7394e-04 - val_accuracy: 1.0000\n",
      "Epoch 226/500\n",
      "2/2 [==============================] - 1s 190ms/step - loss: 0.0012 - accuracy: 1.0000 - val_loss: 8.6587e-04 - val_accuracy: 1.0000\n",
      "Epoch 227/500\n",
      "2/2 [==============================] - 1s 194ms/step - loss: 0.0011 - accuracy: 1.0000 - val_loss: 8.5785e-04 - val_accuracy: 1.0000\n",
      "Epoch 228/500\n",
      "2/2 [==============================] - 1s 201ms/step - loss: 0.0014 - accuracy: 1.0000 - val_loss: 8.4990e-04 - val_accuracy: 1.0000\n",
      "Epoch 229/500\n",
      "2/2 [==============================] - 1s 189ms/step - loss: 0.0011 - accuracy: 1.0000 - val_loss: 8.4252e-04 - val_accuracy: 1.0000\n"
     ]
    },
    {
     "name": "stdout",
     "output_type": "stream",
     "text": [
      "Epoch 230/500\n",
      "2/2 [==============================] - 1s 192ms/step - loss: 0.0012 - accuracy: 1.0000 - val_loss: 8.3549e-04 - val_accuracy: 1.0000\n",
      "Epoch 231/500\n",
      "2/2 [==============================] - 1s 201ms/step - loss: 0.0014 - accuracy: 1.0000 - val_loss: 8.2816e-04 - val_accuracy: 1.0000\n",
      "Epoch 232/500\n",
      "2/2 [==============================] - 1s 194ms/step - loss: 0.0017 - accuracy: 1.0000 - val_loss: 8.2051e-04 - val_accuracy: 1.0000\n",
      "Epoch 233/500\n",
      "2/2 [==============================] - 1s 187ms/step - loss: 0.0011 - accuracy: 1.0000 - val_loss: 8.1334e-04 - val_accuracy: 1.0000\n",
      "Epoch 234/500\n",
      "2/2 [==============================] - 1s 193ms/step - loss: 0.0013 - accuracy: 1.0000 - val_loss: 8.0631e-04 - val_accuracy: 1.0000\n",
      "Epoch 235/500\n",
      "2/2 [==============================] - 1s 195ms/step - loss: 9.4589e-04 - accuracy: 1.0000 - val_loss: 7.9965e-04 - val_accuracy: 1.0000\n",
      "Epoch 236/500\n",
      "2/2 [==============================] - 1s 189ms/step - loss: 0.0010 - accuracy: 1.0000 - val_loss: 7.9330e-04 - val_accuracy: 1.0000\n",
      "Epoch 237/500\n",
      "2/2 [==============================] - 1s 199ms/step - loss: 0.0012 - accuracy: 1.0000 - val_loss: 7.8714e-04 - val_accuracy: 1.0000\n",
      "Epoch 238/500\n",
      "2/2 [==============================] - 1s 196ms/step - loss: 0.0011 - accuracy: 1.0000 - val_loss: 7.8134e-04 - val_accuracy: 1.0000\n",
      "Epoch 239/500\n",
      "2/2 [==============================] - 1s 197ms/step - loss: 0.0012 - accuracy: 1.0000 - val_loss: 7.7584e-04 - val_accuracy: 1.0000\n",
      "Epoch 240/500\n",
      "2/2 [==============================] - 1s 196ms/step - loss: 0.0013 - accuracy: 1.0000 - val_loss: 7.7019e-04 - val_accuracy: 1.0000\n",
      "Epoch 241/500\n",
      "2/2 [==============================] - 1s 186ms/step - loss: 0.0013 - accuracy: 1.0000 - val_loss: 7.6361e-04 - val_accuracy: 1.0000\n",
      "Epoch 242/500\n",
      "2/2 [==============================] - 1s 181ms/step - loss: 0.0011 - accuracy: 1.0000 - val_loss: 7.5639e-04 - val_accuracy: 1.0000\n",
      "Epoch 243/500\n",
      "2/2 [==============================] - 1s 196ms/step - loss: 0.0011 - accuracy: 1.0000 - val_loss: 7.4936e-04 - val_accuracy: 1.0000\n",
      "Epoch 244/500\n",
      "2/2 [==============================] - 1s 196ms/step - loss: 8.8897e-04 - accuracy: 1.0000 - val_loss: 7.4263e-04 - val_accuracy: 1.0000\n",
      "Epoch 245/500\n",
      "2/2 [==============================] - 1s 191ms/step - loss: 0.0010 - accuracy: 1.0000 - val_loss: 7.3600e-04 - val_accuracy: 1.0000\n",
      "Epoch 246/500\n",
      "2/2 [==============================] - 1s 199ms/step - loss: 8.6721e-04 - accuracy: 1.0000 - val_loss: 7.2997e-04 - val_accuracy: 1.0000\n",
      "Epoch 247/500\n",
      "2/2 [==============================] - 1s 197ms/step - loss: 0.0011 - accuracy: 1.0000 - val_loss: 7.2433e-04 - val_accuracy: 1.0000\n",
      "Epoch 248/500\n",
      "2/2 [==============================] - 1s 194ms/step - loss: 0.0011 - accuracy: 1.0000 - val_loss: 7.1888e-04 - val_accuracy: 1.0000\n",
      "Epoch 249/500\n",
      "2/2 [==============================] - 1s 184ms/step - loss: 0.0013 - accuracy: 1.0000 - val_loss: 7.1351e-04 - val_accuracy: 1.0000\n",
      "Epoch 250/500\n",
      "2/2 [==============================] - 1s 184ms/step - loss: 9.3151e-04 - accuracy: 1.0000 - val_loss: 7.0858e-04 - val_accuracy: 1.0000\n",
      "Epoch 251/500\n",
      "2/2 [==============================] - 1s 245ms/step - loss: 9.6301e-04 - accuracy: 1.0000 - val_loss: 7.0405e-04 - val_accuracy: 1.0000\n",
      "Epoch 252/500\n",
      "2/2 [==============================] - 1s 226ms/step - loss: 0.0012 - accuracy: 1.0000 - val_loss: 6.9962e-04 - val_accuracy: 1.0000\n",
      "Epoch 253/500\n",
      "2/2 [==============================] - 1s 196ms/step - loss: 0.0011 - accuracy: 1.0000 - val_loss: 6.9520e-04 - val_accuracy: 1.0000\n",
      "Epoch 254/500\n",
      "2/2 [==============================] - 1s 195ms/step - loss: 0.0011 - accuracy: 1.0000 - val_loss: 6.9078e-04 - val_accuracy: 1.0000\n",
      "Epoch 255/500\n",
      "2/2 [==============================] - 1s 191ms/step - loss: 9.6954e-04 - accuracy: 1.0000 - val_loss: 6.8636e-04 - val_accuracy: 1.0000\n",
      "Epoch 256/500\n",
      "2/2 [==============================] - 1s 210ms/step - loss: 0.0013 - accuracy: 1.0000 - val_loss: 6.8155e-04 - val_accuracy: 1.0000\n",
      "Epoch 257/500\n",
      "2/2 [==============================] - 1s 193ms/step - loss: 0.0013 - accuracy: 1.0000 - val_loss: 6.7650e-04 - val_accuracy: 1.0000\n",
      "Epoch 258/500\n",
      "2/2 [==============================] - 1s 196ms/step - loss: 0.0010 - accuracy: 1.0000 - val_loss: 6.7111e-04 - val_accuracy: 1.0000\n",
      "Epoch 259/500\n",
      "2/2 [==============================] - 1s 186ms/step - loss: 9.5979e-04 - accuracy: 1.0000 - val_loss: 6.6518e-04 - val_accuracy: 1.0000\n",
      "Epoch 260/500\n",
      "2/2 [==============================] - 1s 190ms/step - loss: 9.7234e-04 - accuracy: 1.0000 - val_loss: 6.5897e-04 - val_accuracy: 1.0000\n",
      "Epoch 261/500\n",
      "2/2 [==============================] - 1s 194ms/step - loss: 0.0010 - accuracy: 1.0000 - val_loss: 6.5271e-04 - val_accuracy: 1.0000\n",
      "Epoch 262/500\n",
      "2/2 [==============================] - 1s 187ms/step - loss: 0.0012 - accuracy: 1.0000 - val_loss: 6.4689e-04 - val_accuracy: 1.0000\n",
      "Epoch 263/500\n",
      "2/2 [==============================] - 1s 192ms/step - loss: 9.4771e-04 - accuracy: 1.0000 - val_loss: 6.4151e-04 - val_accuracy: 1.0000\n",
      "Epoch 264/500\n",
      "2/2 [==============================] - 1s 194ms/step - loss: 0.0011 - accuracy: 1.0000 - val_loss: 6.3630e-04 - val_accuracy: 1.0000\n",
      "Epoch 265/500\n",
      "2/2 [==============================] - 1s 196ms/step - loss: 9.3886e-04 - accuracy: 1.0000 - val_loss: 6.3115e-04 - val_accuracy: 1.0000\n",
      "Epoch 266/500\n",
      "2/2 [==============================] - 1s 194ms/step - loss: 7.8560e-04 - accuracy: 1.0000 - val_loss: 6.2596e-04 - val_accuracy: 1.0000\n",
      "Epoch 267/500\n",
      "2/2 [==============================] - 1s 185ms/step - loss: 0.0013 - accuracy: 1.0000 - val_loss: 6.2062e-04 - val_accuracy: 1.0000\n",
      "Epoch 268/500\n",
      "2/2 [==============================] - 1s 186ms/step - loss: 0.0011 - accuracy: 1.0000 - val_loss: 6.1532e-04 - val_accuracy: 1.0000\n",
      "Epoch 269/500\n",
      "2/2 [==============================] - 1s 195ms/step - loss: 9.4430e-04 - accuracy: 1.0000 - val_loss: 6.1047e-04 - val_accuracy: 1.0000\n",
      "Epoch 270/500\n",
      "2/2 [==============================] - 1s 191ms/step - loss: 0.0012 - accuracy: 1.0000 - val_loss: 6.0568e-04 - val_accuracy: 1.0000\n",
      "Epoch 271/500\n",
      "2/2 [==============================] - 1s 188ms/step - loss: 0.0011 - accuracy: 1.0000 - val_loss: 6.0074e-04 - val_accuracy: 1.0000\n",
      "Epoch 272/500\n",
      "2/2 [==============================] - 1s 193ms/step - loss: 0.0014 - accuracy: 1.0000 - val_loss: 5.9572e-04 - val_accuracy: 1.0000\n",
      "Epoch 273/500\n",
      "2/2 [==============================] - 1s 186ms/step - loss: 0.0012 - accuracy: 1.0000 - val_loss: 5.9081e-04 - val_accuracy: 1.0000\n",
      "Epoch 274/500\n",
      "2/2 [==============================] - 1s 182ms/step - loss: 0.0012 - accuracy: 1.0000 - val_loss: 5.8612e-04 - val_accuracy: 1.0000\n",
      "Epoch 275/500\n",
      "2/2 [==============================] - 1s 189ms/step - loss: 0.0010 - accuracy: 1.0000 - val_loss: 5.8148e-04 - val_accuracy: 1.0000\n",
      "Epoch 276/500\n",
      "2/2 [==============================] - 1s 187ms/step - loss: 8.2340e-04 - accuracy: 1.0000 - val_loss: 5.7701e-04 - val_accuracy: 1.0000\n",
      "Epoch 277/500\n",
      "2/2 [==============================] - 1s 184ms/step - loss: 0.0012 - accuracy: 1.0000 - val_loss: 5.7230e-04 - val_accuracy: 1.0000\n",
      "Epoch 278/500\n",
      "2/2 [==============================] - 1s 199ms/step - loss: 9.5308e-04 - accuracy: 1.0000 - val_loss: 5.6744e-04 - val_accuracy: 1.0000\n",
      "Epoch 279/500\n",
      "2/2 [==============================] - 1s 197ms/step - loss: 9.8767e-04 - accuracy: 1.0000 - val_loss: 5.6270e-04 - val_accuracy: 1.0000\n",
      "Epoch 280/500\n",
      "2/2 [==============================] - 1s 203ms/step - loss: 0.0011 - accuracy: 1.0000 - val_loss: 5.5812e-04 - val_accuracy: 1.0000\n",
      "Epoch 281/500\n",
      "2/2 [==============================] - 1s 201ms/step - loss: 7.6387e-04 - accuracy: 1.0000 - val_loss: 5.5400e-04 - val_accuracy: 1.0000\n",
      "Epoch 282/500\n",
      "2/2 [==============================] - 1s 189ms/step - loss: 6.8693e-04 - accuracy: 1.0000 - val_loss: 5.4995e-04 - val_accuracy: 1.0000\n",
      "Epoch 283/500\n",
      "2/2 [==============================] - 1s 204ms/step - loss: 8.5671e-04 - accuracy: 1.0000 - val_loss: 5.4578e-04 - val_accuracy: 1.0000\n",
      "Epoch 284/500\n",
      "2/2 [==============================] - 1s 195ms/step - loss: 0.0010 - accuracy: 1.0000 - val_loss: 5.4191e-04 - val_accuracy: 1.0000\n",
      "Epoch 285/500\n"
     ]
    },
    {
     "name": "stdout",
     "output_type": "stream",
     "text": [
      "2/2 [==============================] - 1s 194ms/step - loss: 7.7900e-04 - accuracy: 1.0000 - val_loss: 5.3836e-04 - val_accuracy: 1.0000\n",
      "Epoch 286/500\n",
      "2/2 [==============================] - 1s 188ms/step - loss: 7.7801e-04 - accuracy: 1.0000 - val_loss: 5.3515e-04 - val_accuracy: 1.0000\n",
      "Epoch 287/500\n",
      "2/2 [==============================] - 1s 186ms/step - loss: 5.9189e-04 - accuracy: 1.0000 - val_loss: 5.3219e-04 - val_accuracy: 1.0000\n",
      "Epoch 288/500\n",
      "2/2 [==============================] - 1s 185ms/step - loss: 6.8832e-04 - accuracy: 1.0000 - val_loss: 5.2920e-04 - val_accuracy: 1.0000\n",
      "Epoch 289/500\n",
      "2/2 [==============================] - 1s 196ms/step - loss: 8.6915e-04 - accuracy: 1.0000 - val_loss: 5.2581e-04 - val_accuracy: 1.0000\n",
      "Epoch 290/500\n",
      "2/2 [==============================] - 1s 187ms/step - loss: 8.3070e-04 - accuracy: 1.0000 - val_loss: 5.2226e-04 - val_accuracy: 1.0000\n",
      "Epoch 291/500\n",
      "2/2 [==============================] - 1s 186ms/step - loss: 0.0011 - accuracy: 1.0000 - val_loss: 5.1888e-04 - val_accuracy: 1.0000\n",
      "Epoch 292/500\n",
      "2/2 [==============================] - 1s 185ms/step - loss: 7.9353e-04 - accuracy: 1.0000 - val_loss: 5.1576e-04 - val_accuracy: 1.0000\n",
      "Epoch 293/500\n",
      "2/2 [==============================] - 1s 191ms/step - loss: 7.4119e-04 - accuracy: 1.0000 - val_loss: 5.1266e-04 - val_accuracy: 1.0000\n",
      "Epoch 294/500\n",
      "2/2 [==============================] - 1s 199ms/step - loss: 9.5833e-04 - accuracy: 1.0000 - val_loss: 5.0952e-04 - val_accuracy: 1.0000\n",
      "Epoch 295/500\n",
      "2/2 [==============================] - 1s 198ms/step - loss: 7.7297e-04 - accuracy: 1.0000 - val_loss: 5.0641e-04 - val_accuracy: 1.0000\n",
      "Epoch 296/500\n",
      "2/2 [==============================] - 1s 196ms/step - loss: 7.9923e-04 - accuracy: 1.0000 - val_loss: 5.0330e-04 - val_accuracy: 1.0000\n",
      "Epoch 297/500\n",
      "2/2 [==============================] - 1s 185ms/step - loss: 6.6809e-04 - accuracy: 1.0000 - val_loss: 5.0016e-04 - val_accuracy: 1.0000\n",
      "Epoch 298/500\n",
      "2/2 [==============================] - 1s 190ms/step - loss: 7.9447e-04 - accuracy: 1.0000 - val_loss: 4.9677e-04 - val_accuracy: 1.0000\n",
      "Epoch 299/500\n",
      "2/2 [==============================] - 1s 188ms/step - loss: 8.6435e-04 - accuracy: 1.0000 - val_loss: 4.9317e-04 - val_accuracy: 1.0000\n",
      "Epoch 300/500\n",
      "2/2 [==============================] - 1s 189ms/step - loss: 0.0011 - accuracy: 1.0000 - val_loss: 4.8955e-04 - val_accuracy: 1.0000\n",
      "Epoch 301/500\n",
      "2/2 [==============================] - 1s 188ms/step - loss: 9.9634e-04 - accuracy: 1.0000 - val_loss: 4.8607e-04 - val_accuracy: 1.0000\n",
      "Epoch 302/500\n",
      "2/2 [==============================] - 1s 195ms/step - loss: 7.1179e-04 - accuracy: 1.0000 - val_loss: 4.8290e-04 - val_accuracy: 1.0000\n",
      "Epoch 303/500\n",
      "2/2 [==============================] - 1s 183ms/step - loss: 0.0011 - accuracy: 1.0000 - val_loss: 4.7984e-04 - val_accuracy: 1.0000\n",
      "Epoch 304/500\n",
      "2/2 [==============================] - 1s 191ms/step - loss: 7.6162e-04 - accuracy: 1.0000 - val_loss: 4.7697e-04 - val_accuracy: 1.0000\n",
      "Epoch 305/500\n",
      "2/2 [==============================] - 1s 193ms/step - loss: 8.0695e-04 - accuracy: 1.0000 - val_loss: 4.7394e-04 - val_accuracy: 1.0000\n",
      "Epoch 306/500\n",
      "2/2 [==============================] - 1s 192ms/step - loss: 6.9743e-04 - accuracy: 1.0000 - val_loss: 4.7085e-04 - val_accuracy: 1.0000\n",
      "Epoch 307/500\n",
      "2/2 [==============================] - 1s 186ms/step - loss: 6.5864e-04 - accuracy: 1.0000 - val_loss: 4.6776e-04 - val_accuracy: 1.0000\n",
      "Epoch 308/500\n",
      "2/2 [==============================] - 1s 184ms/step - loss: 6.4048e-04 - accuracy: 1.0000 - val_loss: 4.6468e-04 - val_accuracy: 1.0000\n",
      "Epoch 309/500\n",
      "2/2 [==============================] - 1s 195ms/step - loss: 8.2586e-04 - accuracy: 1.0000 - val_loss: 4.6162e-04 - val_accuracy: 1.0000\n",
      "Epoch 310/500\n",
      "2/2 [==============================] - 1s 196ms/step - loss: 6.6888e-04 - accuracy: 1.0000 - val_loss: 4.5863e-04 - val_accuracy: 1.0000\n",
      "Epoch 311/500\n",
      "2/2 [==============================] - 1s 188ms/step - loss: 6.0286e-04 - accuracy: 1.0000 - val_loss: 4.5564e-04 - val_accuracy: 1.0000\n",
      "Epoch 312/500\n",
      "2/2 [==============================] - 1s 186ms/step - loss: 8.0576e-04 - accuracy: 1.0000 - val_loss: 4.5265e-04 - val_accuracy: 1.0000\n",
      "Epoch 313/500\n",
      "2/2 [==============================] - 1s 188ms/step - loss: 6.5973e-04 - accuracy: 1.0000 - val_loss: 4.4959e-04 - val_accuracy: 1.0000\n",
      "Epoch 314/500\n",
      "2/2 [==============================] - 1s 188ms/step - loss: 5.7862e-04 - accuracy: 1.0000 - val_loss: 4.4675e-04 - val_accuracy: 1.0000\n",
      "Epoch 315/500\n",
      "2/2 [==============================] - 1s 187ms/step - loss: 8.5441e-04 - accuracy: 1.0000 - val_loss: 4.4370e-04 - val_accuracy: 1.0000\n",
      "Epoch 316/500\n",
      "2/2 [==============================] - 1s 188ms/step - loss: 6.2375e-04 - accuracy: 1.0000 - val_loss: 4.4054e-04 - val_accuracy: 1.0000\n",
      "Epoch 317/500\n",
      "2/2 [==============================] - 1s 194ms/step - loss: 0.0011 - accuracy: 1.0000 - val_loss: 4.3742e-04 - val_accuracy: 1.0000\n",
      "Epoch 318/500\n",
      "2/2 [==============================] - 1s 190ms/step - loss: 8.6387e-04 - accuracy: 1.0000 - val_loss: 4.3420e-04 - val_accuracy: 1.0000\n",
      "Epoch 319/500\n",
      "2/2 [==============================] - 1s 192ms/step - loss: 6.5468e-04 - accuracy: 1.0000 - val_loss: 4.3105e-04 - val_accuracy: 1.0000\n",
      "Epoch 320/500\n",
      "2/2 [==============================] - 1s 193ms/step - loss: 5.8192e-04 - accuracy: 1.0000 - val_loss: 4.2828e-04 - val_accuracy: 1.0000\n",
      "Epoch 321/500\n",
      "2/2 [==============================] - 1s 186ms/step - loss: 3.3160e-04 - accuracy: 1.0000 - val_loss: 4.2579e-04 - val_accuracy: 1.0000\n",
      "Epoch 322/500\n",
      "2/2 [==============================] - 1s 194ms/step - loss: 7.6326e-04 - accuracy: 1.0000 - val_loss: 4.2339e-04 - val_accuracy: 1.0000\n",
      "Epoch 323/500\n",
      "2/2 [==============================] - 1s 190ms/step - loss: 6.6580e-04 - accuracy: 1.0000 - val_loss: 4.2095e-04 - val_accuracy: 1.0000\n",
      "Epoch 324/500\n",
      "2/2 [==============================] - 1s 201ms/step - loss: 7.1173e-04 - accuracy: 1.0000 - val_loss: 4.1828e-04 - val_accuracy: 1.0000\n",
      "Epoch 325/500\n",
      "2/2 [==============================] - 1s 192ms/step - loss: 6.2762e-04 - accuracy: 1.0000 - val_loss: 4.1553e-04 - val_accuracy: 1.0000\n",
      "Epoch 326/500\n",
      "2/2 [==============================] - 1s 194ms/step - loss: 6.5344e-04 - accuracy: 1.0000 - val_loss: 4.1296e-04 - val_accuracy: 1.0000\n",
      "Epoch 327/500\n",
      "2/2 [==============================] - 1s 197ms/step - loss: 6.7077e-04 - accuracy: 1.0000 - val_loss: 4.1056e-04 - val_accuracy: 1.0000\n",
      "Epoch 328/500\n",
      "2/2 [==============================] - 1s 202ms/step - loss: 7.0377e-04 - accuracy: 1.0000 - val_loss: 4.0828e-04 - val_accuracy: 1.0000\n",
      "Epoch 329/500\n",
      "2/2 [==============================] - 1s 191ms/step - loss: 9.0925e-04 - accuracy: 1.0000 - val_loss: 4.0582e-04 - val_accuracy: 1.0000\n",
      "Epoch 330/500\n",
      "2/2 [==============================] - 1s 203ms/step - loss: 5.9235e-04 - accuracy: 1.0000 - val_loss: 4.0334e-04 - val_accuracy: 1.0000\n",
      "Epoch 331/500\n",
      "2/2 [==============================] - 1s 191ms/step - loss: 7.4630e-04 - accuracy: 1.0000 - val_loss: 4.0102e-04 - val_accuracy: 1.0000\n",
      "Epoch 332/500\n",
      "2/2 [==============================] - 1s 199ms/step - loss: 5.9650e-04 - accuracy: 1.0000 - val_loss: 3.9886e-04 - val_accuracy: 1.0000\n",
      "Epoch 333/500\n",
      "2/2 [==============================] - 1s 210ms/step - loss: 5.4641e-04 - accuracy: 1.0000 - val_loss: 3.9680e-04 - val_accuracy: 1.0000\n",
      "Epoch 334/500\n",
      "2/2 [==============================] - 1s 189ms/step - loss: 5.4694e-04 - accuracy: 1.0000 - val_loss: 3.9480e-04 - val_accuracy: 1.0000\n",
      "Epoch 335/500\n",
      "2/2 [==============================] - 1s 189ms/step - loss: 6.4411e-04 - accuracy: 1.0000 - val_loss: 3.9290e-04 - val_accuracy: 1.0000\n",
      "Epoch 336/500\n",
      "2/2 [==============================] - 1s 188ms/step - loss: 5.7717e-04 - accuracy: 1.0000 - val_loss: 3.9102e-04 - val_accuracy: 1.0000\n",
      "Epoch 337/500\n",
      "2/2 [==============================] - 1s 198ms/step - loss: 5.9036e-04 - accuracy: 1.0000 - val_loss: 3.8903e-04 - val_accuracy: 1.0000\n",
      "Epoch 338/500\n",
      "2/2 [==============================] - 1s 198ms/step - loss: 7.8721e-04 - accuracy: 1.0000 - val_loss: 3.8675e-04 - val_accuracy: 1.0000\n",
      "Epoch 339/500\n"
     ]
    },
    {
     "name": "stdout",
     "output_type": "stream",
     "text": [
      "2/2 [==============================] - 1s 183ms/step - loss: 5.3297e-04 - accuracy: 1.0000 - val_loss: 3.8430e-04 - val_accuracy: 1.0000\n",
      "Epoch 340/500\n",
      "2/2 [==============================] - 1s 193ms/step - loss: 6.3298e-04 - accuracy: 1.0000 - val_loss: 3.8196e-04 - val_accuracy: 1.0000\n",
      "Epoch 341/500\n",
      "2/2 [==============================] - 1s 188ms/step - loss: 7.5381e-04 - accuracy: 1.0000 - val_loss: 3.7964e-04 - val_accuracy: 1.0000\n",
      "Epoch 342/500\n",
      "2/2 [==============================] - 1s 199ms/step - loss: 6.6097e-04 - accuracy: 1.0000 - val_loss: 3.7721e-04 - val_accuracy: 1.0000\n",
      "Epoch 343/500\n",
      "2/2 [==============================] - 1s 240ms/step - loss: 5.0761e-04 - accuracy: 1.0000 - val_loss: 3.7483e-04 - val_accuracy: 1.0000\n",
      "Epoch 344/500\n",
      "2/2 [==============================] - 1s 219ms/step - loss: 7.3770e-04 - accuracy: 1.0000 - val_loss: 3.7254e-04 - val_accuracy: 1.0000\n",
      "Epoch 345/500\n",
      "2/2 [==============================] - 1s 202ms/step - loss: 4.5432e-04 - accuracy: 1.0000 - val_loss: 3.7049e-04 - val_accuracy: 1.0000\n",
      "Epoch 346/500\n",
      "2/2 [==============================] - 1s 210ms/step - loss: 6.1176e-04 - accuracy: 1.0000 - val_loss: 3.6841e-04 - val_accuracy: 1.0000\n",
      "Epoch 347/500\n",
      "2/2 [==============================] - 1s 196ms/step - loss: 6.5237e-04 - accuracy: 1.0000 - val_loss: 3.6623e-04 - val_accuracy: 1.0000\n",
      "Epoch 348/500\n",
      "2/2 [==============================] - 1s 210ms/step - loss: 8.6322e-04 - accuracy: 1.0000 - val_loss: 3.6364e-04 - val_accuracy: 1.0000\n",
      "Epoch 349/500\n",
      "2/2 [==============================] - 1s 199ms/step - loss: 5.3296e-04 - accuracy: 1.0000 - val_loss: 3.6093e-04 - val_accuracy: 1.0000\n",
      "Epoch 350/500\n",
      "2/2 [==============================] - 1s 193ms/step - loss: 7.4381e-04 - accuracy: 1.0000 - val_loss: 3.5813e-04 - val_accuracy: 1.0000\n",
      "Epoch 351/500\n",
      "2/2 [==============================] - 1s 187ms/step - loss: 4.7156e-04 - accuracy: 1.0000 - val_loss: 3.5510e-04 - val_accuracy: 1.0000\n",
      "Epoch 352/500\n",
      "2/2 [==============================] - 1s 192ms/step - loss: 6.5922e-04 - accuracy: 1.0000 - val_loss: 3.5227e-04 - val_accuracy: 1.0000\n",
      "Epoch 353/500\n",
      "2/2 [==============================] - 1s 194ms/step - loss: 7.1979e-04 - accuracy: 1.0000 - val_loss: 3.4974e-04 - val_accuracy: 1.0000\n",
      "Epoch 354/500\n",
      "2/2 [==============================] - 1s 196ms/step - loss: 6.4467e-04 - accuracy: 1.0000 - val_loss: 3.4743e-04 - val_accuracy: 1.0000\n",
      "Epoch 355/500\n",
      "2/2 [==============================] - 1s 189ms/step - loss: 6.4466e-04 - accuracy: 1.0000 - val_loss: 3.4539e-04 - val_accuracy: 1.0000\n",
      "Epoch 356/500\n",
      "2/2 [==============================] - 1s 196ms/step - loss: 5.9218e-04 - accuracy: 1.0000 - val_loss: 3.4338e-04 - val_accuracy: 1.0000\n",
      "Epoch 357/500\n",
      "2/2 [==============================] - 1s 203ms/step - loss: 5.9271e-04 - accuracy: 1.0000 - val_loss: 3.4141e-04 - val_accuracy: 1.0000\n",
      "Epoch 358/500\n",
      "2/2 [==============================] - 1s 191ms/step - loss: 5.1091e-04 - accuracy: 1.0000 - val_loss: 3.3950e-04 - val_accuracy: 1.0000\n",
      "Epoch 359/500\n",
      "2/2 [==============================] - 1s 188ms/step - loss: 7.6608e-04 - accuracy: 1.0000 - val_loss: 3.3734e-04 - val_accuracy: 1.0000\n",
      "Epoch 360/500\n",
      "2/2 [==============================] - 1s 217ms/step - loss: 6.3273e-04 - accuracy: 1.0000 - val_loss: 3.3489e-04 - val_accuracy: 1.0000\n",
      "Epoch 361/500\n",
      "2/2 [==============================] - 1s 195ms/step - loss: 4.4897e-04 - accuracy: 1.0000 - val_loss: 3.3245e-04 - val_accuracy: 1.0000\n",
      "Epoch 362/500\n",
      "2/2 [==============================] - 1s 201ms/step - loss: 5.2736e-04 - accuracy: 1.0000 - val_loss: 3.3020e-04 - val_accuracy: 1.0000\n",
      "Epoch 363/500\n",
      "2/2 [==============================] - 1s 194ms/step - loss: 4.3288e-04 - accuracy: 1.0000 - val_loss: 3.2820e-04 - val_accuracy: 1.0000\n",
      "Epoch 364/500\n",
      "2/2 [==============================] - 1s 192ms/step - loss: 4.5943e-04 - accuracy: 1.0000 - val_loss: 3.2642e-04 - val_accuracy: 1.0000\n",
      "Epoch 365/500\n",
      "2/2 [==============================] - 1s 196ms/step - loss: 4.9188e-04 - accuracy: 1.0000 - val_loss: 3.2473e-04 - val_accuracy: 1.0000\n",
      "Epoch 366/500\n",
      "2/2 [==============================] - 1s 200ms/step - loss: 5.7804e-04 - accuracy: 1.0000 - val_loss: 3.2288e-04 - val_accuracy: 1.0000\n",
      "Epoch 367/500\n",
      "2/2 [==============================] - 1s 191ms/step - loss: 5.4851e-04 - accuracy: 1.0000 - val_loss: 3.2105e-04 - val_accuracy: 1.0000\n",
      "Epoch 368/500\n",
      "2/2 [==============================] - 1s 189ms/step - loss: 5.1703e-04 - accuracy: 1.0000 - val_loss: 3.1934e-04 - val_accuracy: 1.0000\n",
      "Epoch 369/500\n",
      "2/2 [==============================] - 1s 194ms/step - loss: 4.2857e-04 - accuracy: 1.0000 - val_loss: 3.1768e-04 - val_accuracy: 1.0000\n",
      "Epoch 370/500\n",
      "2/2 [==============================] - 1s 186ms/step - loss: 4.4858e-04 - accuracy: 1.0000 - val_loss: 3.1605e-04 - val_accuracy: 1.0000\n",
      "Epoch 371/500\n",
      "2/2 [==============================] - 1s 195ms/step - loss: 5.6851e-04 - accuracy: 1.0000 - val_loss: 3.1450e-04 - val_accuracy: 1.0000\n",
      "Epoch 372/500\n",
      "2/2 [==============================] - 1s 188ms/step - loss: 9.9252e-04 - accuracy: 1.0000 - val_loss: 3.1295e-04 - val_accuracy: 1.0000\n",
      "Epoch 373/500\n",
      "2/2 [==============================] - 1s 180ms/step - loss: 4.9934e-04 - accuracy: 1.0000 - val_loss: 3.1153e-04 - val_accuracy: 1.0000\n",
      "Epoch 374/500\n",
      "2/2 [==============================] - 1s 182ms/step - loss: 7.2391e-04 - accuracy: 1.0000 - val_loss: 3.0995e-04 - val_accuracy: 1.0000\n",
      "Epoch 375/500\n",
      "2/2 [==============================] - 1s 186ms/step - loss: 4.3336e-04 - accuracy: 1.0000 - val_loss: 3.0828e-04 - val_accuracy: 1.0000\n",
      "Epoch 376/500\n",
      "2/2 [==============================] - 1s 187ms/step - loss: 5.8212e-04 - accuracy: 1.0000 - val_loss: 3.0668e-04 - val_accuracy: 1.0000\n",
      "Epoch 377/500\n",
      "2/2 [==============================] - 1s 194ms/step - loss: 5.0276e-04 - accuracy: 1.0000 - val_loss: 3.0512e-04 - val_accuracy: 1.0000\n",
      "Epoch 378/500\n",
      "2/2 [==============================] - 1s 197ms/step - loss: 5.4457e-04 - accuracy: 1.0000 - val_loss: 3.0355e-04 - val_accuracy: 1.0000\n",
      "Epoch 379/500\n",
      "2/2 [==============================] - 1s 185ms/step - loss: 6.7824e-04 - accuracy: 1.0000 - val_loss: 3.0206e-04 - val_accuracy: 1.0000\n",
      "Epoch 380/500\n",
      "2/2 [==============================] - 1s 196ms/step - loss: 4.2918e-04 - accuracy: 1.0000 - val_loss: 3.0069e-04 - val_accuracy: 1.0000\n",
      "Epoch 381/500\n",
      "2/2 [==============================] - 1s 187ms/step - loss: 4.5855e-04 - accuracy: 1.0000 - val_loss: 2.9939e-04 - val_accuracy: 1.0000\n",
      "Epoch 382/500\n",
      "2/2 [==============================] - 1s 195ms/step - loss: 6.5240e-04 - accuracy: 1.0000 - val_loss: 2.9804e-04 - val_accuracy: 1.0000\n",
      "Epoch 383/500\n",
      "2/2 [==============================] - 1s 189ms/step - loss: 5.6780e-04 - accuracy: 1.0000 - val_loss: 2.9675e-04 - val_accuracy: 1.0000\n",
      "Epoch 384/500\n",
      "2/2 [==============================] - 1s 194ms/step - loss: 5.5121e-04 - accuracy: 1.0000 - val_loss: 2.9550e-04 - val_accuracy: 1.0000\n",
      "Epoch 385/500\n",
      "2/2 [==============================] - 1s 197ms/step - loss: 4.6113e-04 - accuracy: 1.0000 - val_loss: 2.9418e-04 - val_accuracy: 1.0000\n",
      "Epoch 386/500\n",
      "2/2 [==============================] - 1s 188ms/step - loss: 4.9805e-04 - accuracy: 1.0000 - val_loss: 2.9275e-04 - val_accuracy: 1.0000\n",
      "Epoch 387/500\n",
      "2/2 [==============================] - 1s 183ms/step - loss: 5.6696e-04 - accuracy: 1.0000 - val_loss: 2.9138e-04 - val_accuracy: 1.0000\n",
      "Epoch 388/500\n",
      "2/2 [==============================] - 1s 192ms/step - loss: 4.6870e-04 - accuracy: 1.0000 - val_loss: 2.9004e-04 - val_accuracy: 1.0000\n",
      "Epoch 389/500\n",
      "2/2 [==============================] - 1s 189ms/step - loss: 5.4702e-04 - accuracy: 1.0000 - val_loss: 2.8872e-04 - val_accuracy: 1.0000\n",
      "Epoch 390/500\n",
      "2/2 [==============================] - 1s 201ms/step - loss: 4.7532e-04 - accuracy: 1.0000 - val_loss: 2.8741e-04 - val_accuracy: 1.0000\n",
      "Epoch 391/500\n",
      "2/2 [==============================] - 1s 230ms/step - loss: 5.1573e-04 - accuracy: 1.0000 - val_loss: 2.8621e-04 - val_accuracy: 1.0000\n",
      "Epoch 392/500\n",
      "2/2 [==============================] - 1s 184ms/step - loss: 3.7990e-04 - accuracy: 1.0000 - val_loss: 2.8499e-04 - val_accuracy: 1.0000\n",
      "Epoch 393/500\n"
     ]
    },
    {
     "name": "stdout",
     "output_type": "stream",
     "text": [
      "2/2 [==============================] - 1s 195ms/step - loss: 3.6815e-04 - accuracy: 1.0000 - val_loss: 2.8376e-04 - val_accuracy: 1.0000\n",
      "Epoch 394/500\n",
      "2/2 [==============================] - 1s 194ms/step - loss: 4.6805e-04 - accuracy: 1.0000 - val_loss: 2.8263e-04 - val_accuracy: 1.0000\n",
      "Epoch 395/500\n",
      "2/2 [==============================] - 1s 190ms/step - loss: 5.1542e-04 - accuracy: 1.0000 - val_loss: 2.8154e-04 - val_accuracy: 1.0000\n",
      "Epoch 396/500\n",
      "2/2 [==============================] - 1s 198ms/step - loss: 4.9038e-04 - accuracy: 1.0000 - val_loss: 2.8051e-04 - val_accuracy: 1.0000\n",
      "Epoch 397/500\n",
      "2/2 [==============================] - 1s 195ms/step - loss: 3.8600e-04 - accuracy: 1.0000 - val_loss: 2.7955e-04 - val_accuracy: 1.0000\n",
      "Epoch 398/500\n",
      "2/2 [==============================] - 1s 190ms/step - loss: 4.8771e-04 - accuracy: 1.0000 - val_loss: 2.7860e-04 - val_accuracy: 1.0000\n",
      "Epoch 399/500\n",
      "2/2 [==============================] - 1s 192ms/step - loss: 5.2293e-04 - accuracy: 1.0000 - val_loss: 2.7750e-04 - val_accuracy: 1.0000\n",
      "Epoch 400/500\n",
      "2/2 [==============================] - 1s 186ms/step - loss: 3.5977e-04 - accuracy: 1.0000 - val_loss: 2.7619e-04 - val_accuracy: 1.0000\n",
      "Epoch 401/500\n",
      "2/2 [==============================] - 1s 195ms/step - loss: 5.2452e-04 - accuracy: 1.0000 - val_loss: 2.7496e-04 - val_accuracy: 1.0000\n",
      "Epoch 402/500\n",
      "2/2 [==============================] - 1s 189ms/step - loss: 3.2221e-04 - accuracy: 1.0000 - val_loss: 2.7377e-04 - val_accuracy: 1.0000\n",
      "Epoch 403/500\n",
      "2/2 [==============================] - 1s 187ms/step - loss: 5.1180e-04 - accuracy: 1.0000 - val_loss: 2.7259e-04 - val_accuracy: 1.0000\n",
      "Epoch 404/500\n",
      "2/2 [==============================] - 1s 197ms/step - loss: 2.6812e-04 - accuracy: 1.0000 - val_loss: 2.7147e-04 - val_accuracy: 1.0000\n",
      "Epoch 405/500\n",
      "2/2 [==============================] - 1s 190ms/step - loss: 4.3996e-04 - accuracy: 1.0000 - val_loss: 2.7034e-04 - val_accuracy: 1.0000\n",
      "Epoch 406/500\n",
      "2/2 [==============================] - 1s 195ms/step - loss: 3.7512e-04 - accuracy: 1.0000 - val_loss: 2.6930e-04 - val_accuracy: 1.0000\n",
      "Epoch 407/500\n",
      "2/2 [==============================] - 1s 196ms/step - loss: 4.7036e-04 - accuracy: 1.0000 - val_loss: 2.6830e-04 - val_accuracy: 1.0000\n",
      "Epoch 408/500\n",
      "2/2 [==============================] - 1s 183ms/step - loss: 5.7358e-04 - accuracy: 1.0000 - val_loss: 2.6726e-04 - val_accuracy: 1.0000\n",
      "Epoch 409/500\n",
      "2/2 [==============================] - 1s 189ms/step - loss: 4.1856e-04 - accuracy: 1.0000 - val_loss: 2.6620e-04 - val_accuracy: 1.0000\n",
      "Epoch 410/500\n",
      "2/2 [==============================] - 1s 190ms/step - loss: 3.9345e-04 - accuracy: 1.0000 - val_loss: 2.6512e-04 - val_accuracy: 1.0000\n",
      "Epoch 411/500\n",
      "2/2 [==============================] - 1s 194ms/step - loss: 5.9630e-04 - accuracy: 1.0000 - val_loss: 2.6399e-04 - val_accuracy: 1.0000\n",
      "Epoch 412/500\n",
      "2/2 [==============================] - 1s 198ms/step - loss: 5.0040e-04 - accuracy: 1.0000 - val_loss: 2.6275e-04 - val_accuracy: 1.0000\n",
      "Epoch 413/500\n",
      "2/2 [==============================] - 1s 208ms/step - loss: 5.4052e-04 - accuracy: 1.0000 - val_loss: 2.6130e-04 - val_accuracy: 1.0000\n",
      "Epoch 414/500\n",
      "2/2 [==============================] - 1s 219ms/step - loss: 3.6259e-04 - accuracy: 1.0000 - val_loss: 2.5983e-04 - val_accuracy: 1.0000\n",
      "Epoch 415/500\n",
      "2/2 [==============================] - 1s 188ms/step - loss: 4.0218e-04 - accuracy: 1.0000 - val_loss: 2.5854e-04 - val_accuracy: 1.0000\n",
      "Epoch 416/500\n",
      "2/2 [==============================] - 1s 189ms/step - loss: 4.7883e-04 - accuracy: 1.0000 - val_loss: 2.5730e-04 - val_accuracy: 1.0000\n",
      "Epoch 417/500\n",
      "2/2 [==============================] - 1s 193ms/step - loss: 3.7476e-04 - accuracy: 1.0000 - val_loss: 2.5603e-04 - val_accuracy: 1.0000\n",
      "Epoch 418/500\n",
      "2/2 [==============================] - 1s 193ms/step - loss: 4.3288e-04 - accuracy: 1.0000 - val_loss: 2.5475e-04 - val_accuracy: 1.0000\n",
      "Epoch 419/500\n",
      "2/2 [==============================] - 1s 188ms/step - loss: 3.6539e-04 - accuracy: 1.0000 - val_loss: 2.5347e-04 - val_accuracy: 1.0000\n",
      "Epoch 420/500\n",
      "2/2 [==============================] - 1s 195ms/step - loss: 4.3315e-04 - accuracy: 1.0000 - val_loss: 2.5223e-04 - val_accuracy: 1.0000\n",
      "Epoch 421/500\n",
      "2/2 [==============================] - 1s 190ms/step - loss: 4.1412e-04 - accuracy: 1.0000 - val_loss: 2.5101e-04 - val_accuracy: 1.0000\n",
      "Epoch 422/500\n",
      "2/2 [==============================] - 1s 190ms/step - loss: 3.6167e-04 - accuracy: 1.0000 - val_loss: 2.4977e-04 - val_accuracy: 1.0000\n",
      "Epoch 423/500\n",
      "2/2 [==============================] - 1s 198ms/step - loss: 3.4674e-04 - accuracy: 1.0000 - val_loss: 2.4865e-04 - val_accuracy: 1.0000\n",
      "Epoch 424/500\n",
      "2/2 [==============================] - 1s 192ms/step - loss: 4.2291e-04 - accuracy: 1.0000 - val_loss: 2.4752e-04 - val_accuracy: 1.0000\n",
      "Epoch 425/500\n",
      "2/2 [==============================] - 1s 186ms/step - loss: 3.6339e-04 - accuracy: 1.0000 - val_loss: 2.4641e-04 - val_accuracy: 1.0000\n",
      "Epoch 426/500\n",
      "2/2 [==============================] - 1s 197ms/step - loss: 3.7662e-04 - accuracy: 1.0000 - val_loss: 2.4534e-04 - val_accuracy: 1.0000\n",
      "Epoch 427/500\n",
      "2/2 [==============================] - 1s 193ms/step - loss: 4.3406e-04 - accuracy: 1.0000 - val_loss: 2.4426e-04 - val_accuracy: 1.0000\n",
      "Epoch 428/500\n",
      "2/2 [==============================] - 1s 188ms/step - loss: 3.5689e-04 - accuracy: 1.0000 - val_loss: 2.4323e-04 - val_accuracy: 1.0000\n",
      "Epoch 429/500\n",
      "2/2 [==============================] - 1s 191ms/step - loss: 4.1317e-04 - accuracy: 1.0000 - val_loss: 2.4216e-04 - val_accuracy: 1.0000\n",
      "Epoch 430/500\n",
      "2/2 [==============================] - 1s 188ms/step - loss: 3.8027e-04 - accuracy: 1.0000 - val_loss: 2.4118e-04 - val_accuracy: 1.0000\n",
      "Epoch 431/500\n",
      "2/2 [==============================] - 1s 204ms/step - loss: 4.9446e-04 - accuracy: 1.0000 - val_loss: 2.4021e-04 - val_accuracy: 1.0000\n",
      "Epoch 432/500\n",
      "2/2 [==============================] - 1s 193ms/step - loss: 3.3764e-04 - accuracy: 1.0000 - val_loss: 2.3922e-04 - val_accuracy: 1.0000\n",
      "Epoch 433/500\n",
      "2/2 [==============================] - 1s 199ms/step - loss: 3.0349e-04 - accuracy: 1.0000 - val_loss: 2.3827e-04 - val_accuracy: 1.0000\n",
      "Epoch 434/500\n",
      "2/2 [==============================] - 1s 199ms/step - loss: 3.7775e-04 - accuracy: 1.0000 - val_loss: 2.3731e-04 - val_accuracy: 1.0000\n",
      "Epoch 435/500\n",
      "2/2 [==============================] - 1s 181ms/step - loss: 4.5030e-04 - accuracy: 1.0000 - val_loss: 2.3621e-04 - val_accuracy: 1.0000\n",
      "Epoch 436/500\n",
      "2/2 [==============================] - 1s 183ms/step - loss: 4.5348e-04 - accuracy: 1.0000 - val_loss: 2.3497e-04 - val_accuracy: 1.0000\n",
      "Epoch 437/500\n",
      "2/2 [==============================] - 1s 195ms/step - loss: 2.9947e-04 - accuracy: 1.0000 - val_loss: 2.3385e-04 - val_accuracy: 1.0000\n",
      "Epoch 438/500\n",
      "2/2 [==============================] - 1s 181ms/step - loss: 4.1593e-04 - accuracy: 1.0000 - val_loss: 2.3282e-04 - val_accuracy: 1.0000\n",
      "Epoch 439/500\n",
      "2/2 [==============================] - 1s 192ms/step - loss: 4.9417e-04 - accuracy: 1.0000 - val_loss: 2.3183e-04 - val_accuracy: 1.0000\n",
      "Epoch 440/500\n",
      "2/2 [==============================] - 1s 187ms/step - loss: 3.7960e-04 - accuracy: 1.0000 - val_loss: 2.3097e-04 - val_accuracy: 1.0000\n",
      "Epoch 441/500\n",
      "2/2 [==============================] - 1s 197ms/step - loss: 3.6380e-04 - accuracy: 1.0000 - val_loss: 2.3014e-04 - val_accuracy: 1.0000\n",
      "Epoch 442/500\n",
      "2/2 [==============================] - 1s 189ms/step - loss: 3.6707e-04 - accuracy: 1.0000 - val_loss: 2.2923e-04 - val_accuracy: 1.0000\n",
      "Epoch 443/500\n",
      "2/2 [==============================] - 1s 198ms/step - loss: 4.5101e-04 - accuracy: 1.0000 - val_loss: 2.2822e-04 - val_accuracy: 1.0000\n",
      "Epoch 444/500\n",
      "2/2 [==============================] - 1s 218ms/step - loss: 3.7630e-04 - accuracy: 1.0000 - val_loss: 2.2728e-04 - val_accuracy: 1.0000\n",
      "Epoch 445/500\n",
      "2/2 [==============================] - 1s 199ms/step - loss: 3.1979e-04 - accuracy: 1.0000 - val_loss: 2.2641e-04 - val_accuracy: 1.0000\n",
      "Epoch 446/500\n",
      "2/2 [==============================] - 1s 189ms/step - loss: 3.3505e-04 - accuracy: 1.0000 - val_loss: 2.2554e-04 - val_accuracy: 1.0000\n",
      "Epoch 447/500\n"
     ]
    },
    {
     "name": "stdout",
     "output_type": "stream",
     "text": [
      "2/2 [==============================] - 1s 194ms/step - loss: 4.1692e-04 - accuracy: 1.0000 - val_loss: 2.2473e-04 - val_accuracy: 1.0000\n",
      "Epoch 448/500\n",
      "2/2 [==============================] - 1s 190ms/step - loss: 2.9567e-04 - accuracy: 1.0000 - val_loss: 2.2392e-04 - val_accuracy: 1.0000\n",
      "Epoch 449/500\n",
      "2/2 [==============================] - 1s 193ms/step - loss: 5.2010e-04 - accuracy: 1.0000 - val_loss: 2.2298e-04 - val_accuracy: 1.0000\n",
      "Epoch 450/500\n",
      "2/2 [==============================] - 1s 184ms/step - loss: 4.2981e-04 - accuracy: 1.0000 - val_loss: 2.2192e-04 - val_accuracy: 1.0000\n",
      "Epoch 451/500\n",
      "2/2 [==============================] - 1s 214ms/step - loss: 2.6893e-04 - accuracy: 1.0000 - val_loss: 2.2101e-04 - val_accuracy: 1.0000\n",
      "Epoch 452/500\n",
      "2/2 [==============================] - 1s 207ms/step - loss: 3.7837e-04 - accuracy: 1.0000 - val_loss: 2.2015e-04 - val_accuracy: 1.0000\n",
      "Epoch 453/500\n",
      "2/2 [==============================] - 1s 198ms/step - loss: 4.3748e-04 - accuracy: 1.0000 - val_loss: 2.1933e-04 - val_accuracy: 1.0000\n",
      "Epoch 454/500\n",
      "2/2 [==============================] - 1s 211ms/step - loss: 3.3873e-04 - accuracy: 1.0000 - val_loss: 2.1850e-04 - val_accuracy: 1.0000\n",
      "Epoch 455/500\n",
      "2/2 [==============================] - 1s 207ms/step - loss: 2.9811e-04 - accuracy: 1.0000 - val_loss: 2.1772e-04 - val_accuracy: 1.0000\n",
      "Epoch 456/500\n",
      "2/2 [==============================] - 1s 214ms/step - loss: 3.0796e-04 - accuracy: 1.0000 - val_loss: 2.1700e-04 - val_accuracy: 1.0000\n",
      "Epoch 457/500\n",
      "2/2 [==============================] - 1s 216ms/step - loss: 3.6140e-04 - accuracy: 1.0000 - val_loss: 2.1628e-04 - val_accuracy: 1.0000\n",
      "Epoch 458/500\n",
      "2/2 [==============================] - 1s 226ms/step - loss: 2.9792e-04 - accuracy: 1.0000 - val_loss: 2.1555e-04 - val_accuracy: 1.0000\n",
      "Epoch 459/500\n",
      "2/2 [==============================] - 1s 210ms/step - loss: 2.7659e-04 - accuracy: 1.0000 - val_loss: 2.1482e-04 - val_accuracy: 1.0000\n",
      "Epoch 460/500\n",
      "2/2 [==============================] - 1s 221ms/step - loss: 3.8428e-04 - accuracy: 1.0000 - val_loss: 2.1409e-04 - val_accuracy: 1.0000\n",
      "Epoch 461/500\n",
      "2/2 [==============================] - 1s 203ms/step - loss: 3.0379e-04 - accuracy: 1.0000 - val_loss: 2.1340e-04 - val_accuracy: 1.0000\n",
      "Epoch 462/500\n",
      "2/2 [==============================] - 1s 195ms/step - loss: 3.3411e-04 - accuracy: 1.0000 - val_loss: 2.1273e-04 - val_accuracy: 1.0000\n",
      "Epoch 463/500\n",
      "2/2 [==============================] - 1s 196ms/step - loss: 3.6164e-04 - accuracy: 1.0000 - val_loss: 2.1202e-04 - val_accuracy: 1.0000\n",
      "Epoch 464/500\n",
      "2/2 [==============================] - 1s 198ms/step - loss: 3.5589e-04 - accuracy: 1.0000 - val_loss: 2.1135e-04 - val_accuracy: 1.0000\n",
      "Epoch 465/500\n",
      "2/2 [==============================] - 1s 192ms/step - loss: 2.5879e-04 - accuracy: 1.0000 - val_loss: 2.1064e-04 - val_accuracy: 1.0000\n",
      "Epoch 466/500\n",
      "2/2 [==============================] - 1s 187ms/step - loss: 4.1189e-04 - accuracy: 1.0000 - val_loss: 2.0979e-04 - val_accuracy: 1.0000\n",
      "Epoch 467/500\n",
      "2/2 [==============================] - 1s 189ms/step - loss: 2.7918e-04 - accuracy: 1.0000 - val_loss: 2.0888e-04 - val_accuracy: 1.0000\n",
      "Epoch 468/500\n",
      "2/2 [==============================] - 1s 187ms/step - loss: 5.0118e-04 - accuracy: 1.0000 - val_loss: 2.0797e-04 - val_accuracy: 1.0000\n",
      "Epoch 469/500\n",
      "2/2 [==============================] - 1s 194ms/step - loss: 3.1457e-04 - accuracy: 1.0000 - val_loss: 2.0711e-04 - val_accuracy: 1.0000\n",
      "Epoch 470/500\n",
      "2/2 [==============================] - 1s 190ms/step - loss: 3.9586e-04 - accuracy: 1.0000 - val_loss: 2.0629e-04 - val_accuracy: 1.0000\n",
      "Epoch 471/500\n",
      "2/2 [==============================] - 1s 198ms/step - loss: 2.8969e-04 - accuracy: 1.0000 - val_loss: 2.0547e-04 - val_accuracy: 1.0000\n",
      "Epoch 472/500\n",
      "2/2 [==============================] - 1s 193ms/step - loss: 3.1513e-04 - accuracy: 1.0000 - val_loss: 2.0469e-04 - val_accuracy: 1.0000\n",
      "Epoch 473/500\n",
      "2/2 [==============================] - 1s 190ms/step - loss: 2.8260e-04 - accuracy: 1.0000 - val_loss: 2.0400e-04 - val_accuracy: 1.0000\n",
      "Epoch 474/500\n",
      "2/2 [==============================] - 1s 187ms/step - loss: 2.4274e-04 - accuracy: 1.0000 - val_loss: 2.0334e-04 - val_accuracy: 1.0000\n",
      "Epoch 475/500\n",
      "2/2 [==============================] - 1s 201ms/step - loss: 3.0138e-04 - accuracy: 1.0000 - val_loss: 2.0267e-04 - val_accuracy: 1.0000\n",
      "Epoch 476/500\n",
      "2/2 [==============================] - 1s 199ms/step - loss: 3.6834e-04 - accuracy: 1.0000 - val_loss: 2.0194e-04 - val_accuracy: 1.0000\n",
      "Epoch 477/500\n",
      "2/2 [==============================] - 1s 204ms/step - loss: 3.1429e-04 - accuracy: 1.0000 - val_loss: 2.0121e-04 - val_accuracy: 1.0000\n",
      "Epoch 478/500\n",
      "2/2 [==============================] - 1s 187ms/step - loss: 2.4596e-04 - accuracy: 1.0000 - val_loss: 2.0049e-04 - val_accuracy: 1.0000\n",
      "Epoch 479/500\n",
      "2/2 [==============================] - 1s 219ms/step - loss: 2.7102e-04 - accuracy: 1.0000 - val_loss: 1.9980e-04 - val_accuracy: 1.0000\n",
      "Epoch 480/500\n",
      "2/2 [==============================] - 1s 182ms/step - loss: 2.7546e-04 - accuracy: 1.0000 - val_loss: 1.9916e-04 - val_accuracy: 1.0000\n",
      "Epoch 481/500\n",
      "2/2 [==============================] - 1s 184ms/step - loss: 3.0690e-04 - accuracy: 1.0000 - val_loss: 1.9848e-04 - val_accuracy: 1.0000\n",
      "Epoch 482/500\n",
      "2/2 [==============================] - 1s 191ms/step - loss: 2.9870e-04 - accuracy: 1.0000 - val_loss: 1.9781e-04 - val_accuracy: 1.0000\n",
      "Epoch 483/500\n",
      "2/2 [==============================] - 1s 185ms/step - loss: 2.9593e-04 - accuracy: 1.0000 - val_loss: 1.9723e-04 - val_accuracy: 1.0000\n",
      "Epoch 484/500\n",
      "2/2 [==============================] - 1s 200ms/step - loss: 3.5097e-04 - accuracy: 1.0000 - val_loss: 1.9663e-04 - val_accuracy: 1.0000\n",
      "Epoch 485/500\n",
      "2/2 [==============================] - 1s 186ms/step - loss: 3.3612e-04 - accuracy: 1.0000 - val_loss: 1.9597e-04 - val_accuracy: 1.0000\n",
      "Epoch 486/500\n",
      "2/2 [==============================] - 1s 188ms/step - loss: 3.1342e-04 - accuracy: 1.0000 - val_loss: 1.9532e-04 - val_accuracy: 1.0000\n",
      "Epoch 487/500\n",
      "2/2 [==============================] - 1s 187ms/step - loss: 3.5815e-04 - accuracy: 1.0000 - val_loss: 1.9472e-04 - val_accuracy: 1.0000\n",
      "Epoch 488/500\n",
      "2/2 [==============================] - 1s 195ms/step - loss: 3.8793e-04 - accuracy: 1.0000 - val_loss: 1.9407e-04 - val_accuracy: 1.0000\n",
      "Epoch 489/500\n",
      "2/2 [==============================] - 1s 195ms/step - loss: 2.7631e-04 - accuracy: 1.0000 - val_loss: 1.9338e-04 - val_accuracy: 1.0000\n",
      "Epoch 490/500\n",
      "2/2 [==============================] - 1s 200ms/step - loss: 4.1233e-04 - accuracy: 1.0000 - val_loss: 1.9268e-04 - val_accuracy: 1.0000\n",
      "Epoch 491/500\n",
      "2/2 [==============================] - 1s 195ms/step - loss: 2.2950e-04 - accuracy: 1.0000 - val_loss: 1.9202e-04 - val_accuracy: 1.0000\n",
      "Epoch 492/500\n",
      "2/2 [==============================] - 1s 187ms/step - loss: 3.8869e-04 - accuracy: 1.0000 - val_loss: 1.9122e-04 - val_accuracy: 1.0000\n",
      "Epoch 493/500\n",
      "2/2 [==============================] - 1s 185ms/step - loss: 3.4144e-04 - accuracy: 1.0000 - val_loss: 1.9036e-04 - val_accuracy: 1.0000\n",
      "Epoch 494/500\n",
      "2/2 [==============================] - 1s 186ms/step - loss: 2.0997e-04 - accuracy: 1.0000 - val_loss: 1.8957e-04 - val_accuracy: 1.0000\n",
      "Epoch 495/500\n",
      "2/2 [==============================] - 1s 182ms/step - loss: 2.5071e-04 - accuracy: 1.0000 - val_loss: 1.8883e-04 - val_accuracy: 1.0000\n",
      "Epoch 496/500\n",
      "2/2 [==============================] - 1s 189ms/step - loss: 2.2898e-04 - accuracy: 1.0000 - val_loss: 1.8813e-04 - val_accuracy: 1.0000\n",
      "Epoch 497/500\n",
      "2/2 [==============================] - 1s 191ms/step - loss: 2.7708e-04 - accuracy: 1.0000 - val_loss: 1.8741e-04 - val_accuracy: 1.0000\n",
      "Epoch 498/500\n",
      "2/2 [==============================] - 1s 201ms/step - loss: 2.1405e-04 - accuracy: 1.0000 - val_loss: 1.8679e-04 - val_accuracy: 1.0000\n",
      "Epoch 499/500\n",
      "2/2 [==============================] - 1s 198ms/step - loss: 3.0732e-04 - accuracy: 1.0000 - val_loss: 1.8610e-04 - val_accuracy: 1.0000\n",
      "Epoch 500/500\n",
      "2/2 [==============================] - 1s 191ms/step - loss: 3.7719e-04 - accuracy: 1.0000 - val_loss: 1.8536e-04 - val_accuracy: 1.0000\n"
     ]
    }
   ],
   "source": [
    "history = model.fit(X_train,y_train,epochs = 500 , validation_data = (X_val, y_val))"
   ]
  },
  {
   "cell_type": "code",
   "execution_count": 90,
   "id": "6c28176d",
   "metadata": {},
   "outputs": [
    {
     "data": {
      "image/png": "[encoded data removed]",
      "text/plain": [
       "<Figure size 1080x1080 with 2 Axes>"
      ]
     },
     "metadata": {
      "needs_background": "light"
     },
     "output_type": "display_data"
    }
   ],
   "source": [
    "acc = history.history['accuracy']\n",
    "val_acc = history.history['val_accuracy']\n",
    "loss = history.history['loss']\n",
    "val_loss = history.history['val_loss']\n",
    "\n",
    "epochs_range = range(500)\n",
    "\n",
    "plt.figure(figsize=(15, 15))\n",
    "plt.subplot(2, 2, 1)\n",
    "plt.plot(epochs_range, acc, label='Training Accuracy')\n",
    "plt.plot(epochs_range, val_acc, label='Validation Accuracy')\n",
    "plt.legend(loc='lower right')\n",
    "plt.title('Training and Validation Accuracy')\n",
    "\n",
    "plt.subplot(2, 2, 2)\n",
    "plt.plot(epochs_range, loss, label='Training Loss')\n",
    "plt.plot(epochs_range, val_loss, label='Validation Loss')\n",
    "plt.legend(loc='upper right')\n",
    "plt.title('Training and Validation Loss')\n",
    "plt.show()"
   ]
  },
  {
   "cell_type": "code",
   "execution_count": 109,
   "id": "8c225417",
   "metadata": {},
   "outputs": [
    {
     "name": "stdout",
     "output_type": "stream",
     "text": [
      "1/1 [==============================] - 0s 130ms/step\n",
      "                      precision    recall  f1-score   support\n",
      "\n",
      "Non-cancer (Class 0)       1.00      1.00      1.00        12\n",
      "\n",
      "            accuracy                           1.00        12\n",
      "           macro avg       1.00      1.00      1.00        12\n",
      "        weighted avg       1.00      1.00      1.00        12\n",
      "\n"
     ]
    }
   ],
   "source": [
    "predictions_x = model.predict(X_val)\n",
    "predictions=np.argmax(predictions_x,axis=1)\n",
    "predictions = predictions.reshape(1,-1)[0]\n",
    "print(classification_report(y_val, predictions, target_names = ['Non-cancer (Class 0)']))\n"
   ]
  },
  {
   "cell_type": "code",
   "execution_count": null,
   "id": "5a806163",
   "metadata": {},
   "outputs": [],
   "source": []
  }
 ],
 "metadata": {
  "kernelspec": {
   "display_name": "Python 3 (ipykernel)",
   "language": "python",
   "name": "python3"
  },
  "language_info": {
   "codemirror_mode": {
    "name": "ipython",
    "version": 3
   },
   "file_extension": ".py",
   "mimetype": "text/x-python",
   "name": "python",
   "nbconvert_exporter": "python",
   "pygments_lexer": "ipython3",
   "version": "3.9.7"
  }
 },
 "nbformat": 4,
 "nbformat_minor": 5
}
